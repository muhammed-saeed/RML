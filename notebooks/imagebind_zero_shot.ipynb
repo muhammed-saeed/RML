{
 "cells": [
  {
   "cell_type": "code",
   "execution_count": 1,
   "outputs": [
    {
     "name": "stderr",
     "output_type": "stream",
     "text": [
      "C:\\Users\\j2010\\PycharmProjects\\CADDSeminar_2023\\venv\\lib\\site-packages\\torchvision\\transforms\\functional_tensor.py:5: UserWarning: The torchvision.transforms.functional_tensor module is deprecated in 0.15 and will be **removed in 0.17**. Please don't rely on it. You probably just need to use APIs in torchvision.transforms.functional or in torchvision.transforms.v2.functional.\n",
      "  warnings.warn(\n",
      "C:\\Users\\j2010\\PycharmProjects\\CADDSeminar_2023\\venv\\lib\\site-packages\\torchvision\\transforms\\_functional_video.py:6: UserWarning: The 'torchvision.transforms._functional_video' module is deprecated since 0.12 and will be removed in the future. Please use the 'torchvision.transforms.functional' module instead.\n",
      "  warnings.warn(\n",
      "C:\\Users\\j2010\\PycharmProjects\\CADDSeminar_2023\\venv\\lib\\site-packages\\torchvision\\transforms\\_transforms_video.py:22: UserWarning: The 'torchvision.transforms._transforms_video' module is deprecated since 0.12 and will be removed in the future. Please use the 'torchvision.transforms' module instead.\n",
      "  warnings.warn(\n"
     ]
    }
   ],
   "source": [
    "import torch\n",
    "import os\n",
    "\n",
    "import numpy as np\n",
    "\n",
    "from src.imagebind import define_model, get_transform\n",
    "from imagebind import data\n",
    "from tqdm.notebook import tqdm\n",
    "from src.imagenet_labels import lab_dict\n",
    "from imagebind.models.imagebind_model import ModalityType\n",
    "from src.dataloaders import imagenet_dataloader, imagenet_c_dataloader"
   ],
   "metadata": {
    "collapsed": false,
    "ExecuteTime": {
     "end_time": "2023-07-29T21:56:22.503014100Z",
     "start_time": "2023-07-29T21:56:19.699071700Z"
    }
   },
   "id": "3a5fdfa3c86fd84"
  },
  {
   "cell_type": "code",
   "execution_count": 2,
   "id": "initial_id",
   "metadata": {
    "collapsed": true,
    "ExecuteTime": {
     "end_time": "2023-07-29T21:56:22.550342300Z",
     "start_time": "2023-07-29T21:56:22.546352900Z"
    }
   },
   "outputs": [
    {
     "name": "stdout",
     "output_type": "stream",
     "text": [
      "cuda\n"
     ]
    }
   ],
   "source": [
    "device = \"cuda\" if torch.cuda.is_available() else \"cpu\"\n",
    "print(device)"
   ]
  },
  {
   "cell_type": "code",
   "execution_count": 3,
   "outputs": [
    {
     "ename": "ValueError",
     "evalue": "Error initializing torch.distributed using env:// rendezvous: environment variable RANK expected, but not set",
     "output_type": "error",
     "traceback": [
      "\u001B[1;31m---------------------------------------------------------------------------\u001B[0m",
      "\u001B[1;31mValueError\u001B[0m                                Traceback (most recent call last)",
      "Cell \u001B[1;32mIn[3], line 2\u001B[0m\n\u001B[0;32m      1\u001B[0m model \u001B[38;5;241m=\u001B[39m define_model(device)\n\u001B[1;32m----> 2\u001B[0m \u001B[43mdist\u001B[49m\u001B[38;5;241;43m.\u001B[39;49m\u001B[43minit_process_group\u001B[49m\u001B[43m(\u001B[49m\u001B[38;5;124;43m\"\u001B[39;49m\u001B[38;5;124;43mnccl\u001B[39;49m\u001B[38;5;124;43m\"\u001B[39;49m\u001B[43m)\u001B[49m\n\u001B[0;32m      3\u001B[0m rank \u001B[38;5;241m=\u001B[39m dist\u001B[38;5;241m.\u001B[39mget_rank()\n\u001B[0;32m      4\u001B[0m \u001B[38;5;28mprint\u001B[39m(\u001B[38;5;124mf\u001B[39m\u001B[38;5;124m\"\u001B[39m\u001B[38;5;124mStart running basic DDP example on rank \u001B[39m\u001B[38;5;132;01m{\u001B[39;00mrank\u001B[38;5;132;01m}\u001B[39;00m\u001B[38;5;124m.\u001B[39m\u001B[38;5;124m\"\u001B[39m)\n",
      "File \u001B[1;32m~\\PycharmProjects\\CADDSeminar_2023\\venv\\lib\\site-packages\\torch\\distributed\\distributed_c10d.py:900\u001B[0m, in \u001B[0;36minit_process_group\u001B[1;34m(backend, init_method, timeout, world_size, rank, store, group_name, pg_options)\u001B[0m\n\u001B[0;32m    896\u001B[0m \u001B[38;5;28;01mif\u001B[39;00m store \u001B[38;5;129;01mis\u001B[39;00m \u001B[38;5;28;01mNone\u001B[39;00m:\n\u001B[0;32m    897\u001B[0m     rendezvous_iterator \u001B[38;5;241m=\u001B[39m rendezvous(\n\u001B[0;32m    898\u001B[0m         init_method, rank, world_size, timeout\u001B[38;5;241m=\u001B[39mtimeout\n\u001B[0;32m    899\u001B[0m     )\n\u001B[1;32m--> 900\u001B[0m     store, rank, world_size \u001B[38;5;241m=\u001B[39m \u001B[38;5;28;43mnext\u001B[39;49m\u001B[43m(\u001B[49m\u001B[43mrendezvous_iterator\u001B[49m\u001B[43m)\u001B[49m\n\u001B[0;32m    901\u001B[0m     store\u001B[38;5;241m.\u001B[39mset_timeout(timeout)\n\u001B[0;32m    903\u001B[0m     \u001B[38;5;66;03m# Use a PrefixStore to avoid accidental overrides of keys used by\u001B[39;00m\n\u001B[0;32m    904\u001B[0m     \u001B[38;5;66;03m# different systems (e.g. RPC) in case the store is multi-tenant.\u001B[39;00m\n",
      "File \u001B[1;32m~\\PycharmProjects\\CADDSeminar_2023\\venv\\lib\\site-packages\\torch\\distributed\\rendezvous.py:235\u001B[0m, in \u001B[0;36m_env_rendezvous_handler\u001B[1;34m(url, timeout, **kwargs)\u001B[0m\n\u001B[0;32m    233\u001B[0m     rank \u001B[38;5;241m=\u001B[39m \u001B[38;5;28mint\u001B[39m(query_dict[\u001B[38;5;124m\"\u001B[39m\u001B[38;5;124mrank\u001B[39m\u001B[38;5;124m\"\u001B[39m])\n\u001B[0;32m    234\u001B[0m \u001B[38;5;28;01melse\u001B[39;00m:\n\u001B[1;32m--> 235\u001B[0m     rank \u001B[38;5;241m=\u001B[39m \u001B[38;5;28mint\u001B[39m(\u001B[43m_get_env_or_raise\u001B[49m\u001B[43m(\u001B[49m\u001B[38;5;124;43m\"\u001B[39;49m\u001B[38;5;124;43mRANK\u001B[39;49m\u001B[38;5;124;43m\"\u001B[39;49m\u001B[43m)\u001B[49m)\n\u001B[0;32m    237\u001B[0m \u001B[38;5;28;01mif\u001B[39;00m \u001B[38;5;124m\"\u001B[39m\u001B[38;5;124mworld_size\u001B[39m\u001B[38;5;124m\"\u001B[39m \u001B[38;5;129;01min\u001B[39;00m query_dict:\n\u001B[0;32m    238\u001B[0m     world_size \u001B[38;5;241m=\u001B[39m \u001B[38;5;28mint\u001B[39m(query_dict[\u001B[38;5;124m\"\u001B[39m\u001B[38;5;124mworld_size\u001B[39m\u001B[38;5;124m\"\u001B[39m])\n",
      "File \u001B[1;32m~\\PycharmProjects\\CADDSeminar_2023\\venv\\lib\\site-packages\\torch\\distributed\\rendezvous.py:220\u001B[0m, in \u001B[0;36m_env_rendezvous_handler.<locals>._get_env_or_raise\u001B[1;34m(env_var)\u001B[0m\n\u001B[0;32m    218\u001B[0m env_val \u001B[38;5;241m=\u001B[39m os\u001B[38;5;241m.\u001B[39menviron\u001B[38;5;241m.\u001B[39mget(env_var, \u001B[38;5;28;01mNone\u001B[39;00m)\n\u001B[0;32m    219\u001B[0m \u001B[38;5;28;01mif\u001B[39;00m \u001B[38;5;129;01mnot\u001B[39;00m env_val:\n\u001B[1;32m--> 220\u001B[0m     \u001B[38;5;28;01mraise\u001B[39;00m _env_error(env_var)\n\u001B[0;32m    221\u001B[0m \u001B[38;5;28;01melse\u001B[39;00m:\n\u001B[0;32m    222\u001B[0m     \u001B[38;5;28;01mreturn\u001B[39;00m env_val\n",
      "\u001B[1;31mValueError\u001B[0m: Error initializing torch.distributed using env:// rendezvous: environment variable RANK expected, but not set"
     ]
    }
   ],
   "source": [
    "model = define_model(device)\n",
    "transform = get_transform()"
   ],
   "metadata": {
    "collapsed": false,
    "ExecuteTime": {
     "end_time": "2023-07-29T21:56:37.726855100Z",
     "start_time": "2023-07-29T21:56:22.553334900Z"
    }
   },
   "id": "75cb5ef5c4c79f73"
  },
  {
   "cell_type": "code",
   "execution_count": null,
   "outputs": [],
   "source": [
    "cls_names = [lab_dict[i].replace('_', ' ') for i in os.listdir('../data/imagenet')]\n",
    "cls_names = [f\"a {c}\" for c in cls_names]\n",
    "text = data.load_and_transform_text(cls_names, device)"
   ],
   "metadata": {
    "collapsed": false,
    "ExecuteTime": {
     "end_time": "2023-07-29T21:56:37.744807400Z",
     "start_time": "2023-07-29T21:56:37.730844700Z"
    }
   },
   "id": "250daf003b7e19ae"
  },
  {
   "cell_type": "code",
   "execution_count": null,
   "outputs": [],
   "source": [
    "inputs = {\n",
    "    ModalityType.TEXT: text,\n",
    "}\n",
    "with torch.no_grad():\n",
    "    embeddings = model(inputs)\n",
    "text_features = embeddings[ModalityType.TEXT]"
   ],
   "metadata": {
    "collapsed": false,
    "ExecuteTime": {
     "start_time": "2023-07-29T21:56:37.733846300Z"
    }
   },
   "id": "1f559f9e6ec24b40"
  },
  {
   "cell_type": "code",
   "execution_count": null,
   "outputs": [],
   "source": [
    "def get_acc(gt, preds = None):\n",
    "    if preds is not None: \n",
    "        return ((preds.argmax(1)==gt).sum()/len(preds)).cpu().numpy()\n",
    "    return ((preds.argmax(1)==gt).sum()/len(preds)).cpu().numpy()\n",
    "    \n",
    "\n",
    "def get_test_acc(model, loader, device='cuda'):\n",
    "    eval_acc = []\n",
    "    for batch in tqdm(loader, leave=False):\n",
    "        ims, labels = batch\n",
    "        ims, labels = ims.to(device), labels.to(device)\n",
    "        ims = torch.stack(ims, dim=0) # ??\n",
    "        inputs = {\n",
    "            ModalityType.VISION: ims,\n",
    "        }\n",
    "        with torch.no_grad():\n",
    "            embeddings = model(inputs)\n",
    "        image_features = embeddings[ModalityType.VISION]\n",
    "        probs = torch.softmax(image_features @ text_features.T, dim=-1)\n",
    "        \n",
    "        val_acc = get_acc(labels.view(-1,), probs)\n",
    "        eval_acc.append(val_acc)\n",
    "    \n",
    "    return np.mean(eval_acc)"
   ],
   "metadata": {
    "collapsed": false,
    "ExecuteTime": {
     "start_time": "2023-07-29T21:56:37.738824600Z"
    }
   },
   "id": "3b0c98c5c6a110eb"
  },
  {
   "cell_type": "code",
   "execution_count": null,
   "outputs": [],
   "source": [
    "gaussian_noise_acc = []\n",
    "for sev in tqdm([1, 2, 3, 4, 5]):\n",
    "    loader = imagenet_c_dataloader(corruption_name='gaussian_noise', severity=sev, batch_size=256, transform=transform)\n",
    "    gaussian_noise_acc.append(get_test_acc(model, loader, device))"
   ],
   "metadata": {
    "collapsed": false,
    "ExecuteTime": {
     "start_time": "2023-07-29T21:56:37.741818700Z"
    }
   },
   "id": "2e3290c303490e1a"
  },
  {
   "cell_type": "code",
   "execution_count": null,
   "outputs": [],
   "source": [
    "gaussian_noise_acc"
   ],
   "metadata": {
    "collapsed": false,
    "ExecuteTime": {
     "end_time": "2023-07-29T21:56:37.744807400Z",
     "start_time": "2023-07-29T21:56:37.744807400Z"
    }
   },
   "id": "bbf062795c8c2e35"
  },
  {
   "cell_type": "code",
   "execution_count": null,
   "outputs": [],
   "source": [
    "impulse_noise_acc = []\n",
    "for sev in tqdm([1, 2, 3, 4, 5]):\n",
    "    loader = imagenet_c_dataloader(corruption_name='impulse_noise', severity=sev, batch_size=256, transform=transform)\n",
    "    impulse_noise_acc.append(get_test_acc(model, loader, device))"
   ],
   "metadata": {
    "collapsed": false,
    "ExecuteTime": {
     "start_time": "2023-07-29T21:56:37.746802400Z"
    }
   },
   "id": "639327af1282da6a"
  },
  {
   "cell_type": "code",
   "execution_count": null,
   "outputs": [],
   "source": [
    "impulse_noise_acc"
   ],
   "metadata": {
    "collapsed": false,
    "ExecuteTime": {
     "end_time": "2023-07-29T21:56:37.771593300Z",
     "start_time": "2023-07-29T21:56:37.749808800Z"
    }
   },
   "id": "33656d356894eb27"
  },
  {
   "cell_type": "code",
   "execution_count": null,
   "outputs": [],
   "source": [
    "shot_noise_acc = []\n",
    "for sev in tqdm([1, 2, 3, 4, 5]):\n",
    "    loader = imagenet_c_dataloader(corruption_name='shot_noise', severity=sev, batch_size=256, transform=transform)\n",
    "    shot_noise_acc.append(get_test_acc(model, loader, device))"
   ],
   "metadata": {
    "collapsed": false,
    "ExecuteTime": {
     "start_time": "2023-07-29T21:56:37.751789200Z"
    }
   },
   "id": "48121d38936a8bf7"
  },
  {
   "cell_type": "code",
   "execution_count": null,
   "outputs": [],
   "source": [
    "shot_noise_acc"
   ],
   "metadata": {
    "collapsed": false,
    "ExecuteTime": {
     "start_time": "2023-07-29T21:56:37.753784Z"
    }
   },
   "id": "33c778144b0509fb"
  },
  {
   "cell_type": "code",
   "execution_count": null,
   "outputs": [],
   "source": [
    "speckle_noise_acc = []\n",
    "for sev in tqdm([1, 2, 3, 4, 5]):\n",
    "    loader = imagenet_c_dataloader(corruption_name='speckle_noise', severity=sev, batch_size=256, transform=transform)\n",
    "    speckle_noise_acc.append(get_test_acc(model, loader, device))"
   ],
   "metadata": {
    "collapsed": false,
    "ExecuteTime": {
     "start_time": "2023-07-29T21:56:37.755781Z"
    }
   },
   "id": "f8bb1cdcb0c2d719"
  },
  {
   "cell_type": "code",
   "execution_count": null,
   "outputs": [],
   "source": [
    "speckle_noise_acc"
   ],
   "metadata": {
    "collapsed": false,
    "ExecuteTime": {
     "start_time": "2023-07-29T21:56:37.757775200Z"
    }
   },
   "id": "524810ab0581f624"
  },
  {
   "cell_type": "code",
   "execution_count": null,
   "outputs": [],
   "source": [
    "loader = imagenet_dataloader(batch_size=256, transform=transform)\n",
    "clean_acc = get_test_acc(model, loader, device)"
   ],
   "metadata": {
    "collapsed": false,
    "ExecuteTime": {
     "start_time": "2023-07-29T21:56:37.759769600Z"
    }
   },
   "id": "13674248c39e8ed2"
  },
  {
   "cell_type": "code",
   "execution_count": null,
   "outputs": [],
   "source": [
    "clean_acc"
   ],
   "metadata": {
    "collapsed": false,
    "ExecuteTime": {
     "start_time": "2023-07-29T21:56:37.761765300Z"
    }
   },
   "id": "2c83e158b5d6f7e2"
  }
 ],
 "metadata": {
  "kernelspec": {
   "display_name": "Python 3",
   "language": "python",
   "name": "python3"
  },
  "language_info": {
   "codemirror_mode": {
    "name": "ipython",
    "version": 2
   },
   "file_extension": ".py",
   "mimetype": "text/x-python",
   "name": "python",
   "nbconvert_exporter": "python",
   "pygments_lexer": "ipython2",
   "version": "2.7.6"
  }
 },
 "nbformat": 4,
 "nbformat_minor": 5
}
