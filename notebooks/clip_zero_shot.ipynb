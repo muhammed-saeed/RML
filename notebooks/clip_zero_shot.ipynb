{
 "cells": [
  {
   "cell_type": "code",
   "execution_count": null,
   "id": "43171beee3254d87",
   "metadata": {
    "ExecuteTime": {
     "end_time": "2023-07-27T19:07:48.549372700Z",
     "start_time": "2023-07-27T19:07:45.917591700Z"
    },
    "collapsed": false
   },
   "outputs": [],
   "source": [
    "import torch\n",
    "import clip\n",
    "import os\n",
    "\n",
    "import numpy as np\n",
    "\n",
    "from src.imagenet_labels import lab_dict\n",
    "from tqdm.notebook import tqdm\n",
    "from src.dataloaders import imagenet_c_dataloader, imagenet_dataloader"
   ]
  },
  {
   "cell_type": "code",
   "execution_count": null,
   "id": "bc8b022836f065",
   "metadata": {
    "ExecuteTime": {
     "end_time": "2023-07-27T19:07:48.567336700Z",
     "start_time": "2023-07-27T19:07:48.551368200Z"
    },
    "collapsed": false
   },
   "outputs": [],
   "source": [
    "device = \"cuda\" if torch.cuda.is_available() else \"cpu\"\n",
    "print(device)"
   ]
  },
  {
   "cell_type": "code",
   "execution_count": null,
   "id": "fb872440af696dd5",
   "metadata": {
    "ExecuteTime": {
     "end_time": "2023-07-27T19:07:52.175340500Z",
     "start_time": "2023-07-27T19:07:48.567336700Z"
    },
    "collapsed": false
   },
   "outputs": [],
   "source": [
    "model, transform = clip.load(\"ViT-B/32\", device=\"cpu\")"
   ]
  },
  {
   "cell_type": "code",
   "execution_count": null,
   "id": "e5b852b63cb0b15e",
   "metadata": {
    "ExecuteTime": {
     "end_time": "2023-07-27T19:07:52.453595400Z",
     "start_time": "2023-07-27T19:07:52.175340500Z"
    },
    "collapsed": false
   },
   "outputs": [],
   "source": [
    "cls_names = [lab_dict[i].replace('_', ' ') for i in os.listdir('../data/imagenet')]\n",
    "cls_names = torch.cat([clip.tokenize(f\"a photo of a {c}\") for c in cls_names]).to(\"cpu\")"
   ]
  },
  {
   "cell_type": "code",
   "execution_count": null,
   "id": "914b3451c6cda835",
   "metadata": {
    "ExecuteTime": {
     "end_time": "2023-07-27T19:09:29.723115200Z",
     "start_time": "2023-07-27T19:07:52.456588400Z"
    },
    "collapsed": false
   },
   "outputs": [],
   "source": [
    "text_features = model.encode_text(cls_names)\n",
    "text_features /= text_features.norm(dim=-1, keepdim=True)"
   ]
  },
  {
   "cell_type": "code",
   "execution_count": null,
   "id": "797b6606cb87a7f8",
   "metadata": {
    "ExecuteTime": {
     "end_time": "2023-07-27T19:09:33.015006200Z",
     "start_time": "2023-07-27T19:09:29.685435800Z"
    },
    "collapsed": false
   },
   "outputs": [],
   "source": [
    "model = model.to(device)"
   ]
  },
  {
   "cell_type": "code",
   "execution_count": null,
   "id": "34604688593e69b9",
   "metadata": {
    "ExecuteTime": {
     "end_time": "2023-07-27T19:31:15.071378200Z",
     "start_time": "2023-07-27T19:31:15.058412800Z"
    },
    "collapsed": false
   },
   "outputs": [],
   "source": [
    "def get_acc(gt, preds = None):\n",
    "    if preds is not None: \n",
    "        return ((preds.argmax(1)==gt).sum()/len(preds)).cpu().numpy()\n",
    "    return ((preds.argmax(1)==gt).sum()/len(preds)).cpu().numpy()\n",
    "    \n",
    "\n",
    "def get_test_acc(model, loader, device='cuda'):\n",
    "    eval_acc = []\n",
    "    for batch in tqdm(loader, leave=False):\n",
    "        ims, labels = batch\n",
    "        ims, labels = ims.to(device), labels.to(\"cpu\")\n",
    "        with torch.no_grad():\n",
    "            image_features = model.encode_image(ims)\n",
    "            image_features /= image_features.norm(dim=-1, keepdim=True)\n",
    "            image_features = image_features.to(\"cpu\")\n",
    "            probs = (image_features @ text_features.T).softmax(dim=-1)\n",
    "            \n",
    "        val_acc = get_acc(labels.view(-1,), probs)\n",
    "        eval_acc.append(val_acc)\n",
    "    \n",
    "    return np.mean(eval_acc)"
   ]
  },
  {
   "cell_type": "code",
   "execution_count": null,
   "id": "8b7908722f6d859c",
   "metadata": {
    "ExecuteTime": {
     "end_time": "2023-07-27T19:31:15.053427700Z",
     "start_time": "2023-07-27T19:18:59.625006900Z"
    },
    "collapsed": false
   },
   "outputs": [],
   "source": [
    "gaussian_noise_acc = []\n",
    "for sev in tqdm([1, 2, 3, 4, 5]):\n",
    "    loader = imagenet_c_dataloader(corruption_name='gaussian_noise', severity=sev, batch_size=256, transform=transform)\n",
    "    gaussian_noise_acc.append(get_test_acc(model, loader, device))"
   ]
  },
  {
   "cell_type": "code",
   "execution_count": null,
   "id": "dcc2296ad2f2c4bf",
   "metadata": {
    "ExecuteTime": {
     "end_time": "2023-07-27T19:31:15.114356800Z",
     "start_time": "2023-07-27T19:31:15.073374200Z"
    },
    "collapsed": false
   },
   "outputs": [],
   "source": [
    "gaussian_noise_acc"
   ]
  },
  {
   "cell_type": "code",
   "execution_count": null,
   "id": "b1f21755451bbd9f",
   "metadata": {
    "ExecuteTime": {
     "end_time": "2023-07-27T19:46:19.610830600Z",
     "start_time": "2023-07-27T19:34:36.794781600Z"
    },
    "collapsed": false
   },
   "outputs": [],
   "source": [
    "impulse_noise_acc = []\n",
    "for sev in tqdm([1, 2, 3, 4, 5]):\n",
    "    loader = imagenet_c_dataloader(corruption_name='impulse_noise', severity=sev, batch_size=256, transform=transform)\n",
    "    impulse_noise_acc.append(get_test_acc(model, loader, device))"
   ]
  },
  {
   "cell_type": "code",
   "execution_count": null,
   "id": "302e91c1bb6bdc77",
   "metadata": {
    "ExecuteTime": {
     "end_time": "2023-07-27T19:46:19.635762Z",
     "start_time": "2023-07-27T19:46:19.614818300Z"
    },
    "collapsed": false
   },
   "outputs": [],
   "source": [
    "impulse_noise_acc"
   ]
  },
  {
   "cell_type": "code",
   "execution_count": null,
   "id": "1956ae7cc74bc73b",
   "metadata": {
    "ExecuteTime": {
     "end_time": "2023-07-27T19:57:59.687705900Z",
     "start_time": "2023-07-27T19:46:19.628781900Z"
    },
    "collapsed": false
   },
   "outputs": [],
   "source": [
    "shot_noise_acc = []\n",
    "for sev in tqdm([1, 2, 3, 4, 5]):\n",
    "    loader = imagenet_c_dataloader(corruption_name='shot_noise', severity=sev, batch_size=256, transform=transform)\n",
    "    shot_noise_acc.append(get_test_acc(model, loader, device))"
   ]
  },
  {
   "cell_type": "code",
   "execution_count": null,
   "id": "789f99e8724ed1a0",
   "metadata": {
    "ExecuteTime": {
     "end_time": "2023-07-27T19:57:59.705658Z",
     "start_time": "2023-07-27T19:57:59.688702200Z"
    },
    "collapsed": false
   },
   "outputs": [],
   "source": [
    "shot_noise_acc"
   ]
  },
  {
   "cell_type": "code",
   "execution_count": null,
   "id": "c748071206ed8590",
   "metadata": {
    "ExecuteTime": {
     "end_time": "2023-07-27T20:09:39.941206600Z",
     "start_time": "2023-07-27T19:57:59.705658Z"
    },
    "collapsed": false
   },
   "outputs": [],
   "source": [
    "speckle_noise_acc = []\n",
    "for sev in tqdm([1, 2, 3, 4, 5]):\n",
    "    loader = imagenet_c_dataloader(corruption_name='speckle_noise', severity=sev, batch_size=256, transform=transform)\n",
    "    speckle_noise_acc.append(get_test_acc(model, loader, device))"
   ]
  },
  {
   "cell_type": "code",
   "execution_count": null,
   "id": "1fb5a68b93968b88",
   "metadata": {
    "ExecuteTime": {
     "end_time": "2023-07-27T20:09:39.957162700Z",
     "start_time": "2023-07-27T20:09:39.945195300Z"
    },
    "collapsed": false
   },
   "outputs": [],
   "source": [
    "speckle_noise_acc"
   ]
  },
  {
   "cell_type": "code",
   "execution_count": null,
   "id": "5b469f3a6a9c106c",
   "metadata": {
    "ExecuteTime": {
     "end_time": "2023-07-27T20:15:10.874370100Z",
     "start_time": "2023-07-27T20:09:39.959158Z"
    },
    "collapsed": false
   },
   "outputs": [],
   "source": [
    "loader = imagenet_dataloader(batch_size=256, transform=transform)\n",
    "clean_acc = get_test_acc(model, loader, device)"
   ]
  },
  {
   "cell_type": "code",
   "execution_count": null,
   "id": "20800de2f90911cd",
   "metadata": {
    "ExecuteTime": {
     "end_time": "2023-07-27T20:15:10.895312600Z",
     "start_time": "2023-07-27T20:15:10.875366700Z"
    },
    "collapsed": false
   },
   "outputs": [],
   "source": [
    "clean_acc"
   ]
  }
 ],
 "metadata": {
  "kernelspec": {
   "display_name": "Python 3.9.2 64-bit",
   "language": "python",
   "name": "python3"
  },
  "language_info": {
   "codemirror_mode": {
    "name": "ipython",
    "version": 2
   },
   "file_extension": ".py",
   "mimetype": "text/x-python",
   "name": "python",
   "nbconvert_exporter": "python",
   "pygments_lexer": "ipython2",
   "version": "3.9.2"
  },
  "vscode": {
   "interpreter": {
    "hash": "31f2aee4e71d21fbe5cf8b01ff0e069b9275f58929596ceb00d14d90e3e16cd6"
   }
  }
 },
 "nbformat": 4,
 "nbformat_minor": 5
}
