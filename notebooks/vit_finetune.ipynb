{
 "cells": [
  {
   "cell_type": "code",
   "execution_count": 1,
   "metadata": {},
   "outputs": [],
   "source": [
    "import sys \n",
    "sys.path.append('..')\n",
    "from src.vit import get_image_features, define_model, feature_dim\n",
    "from src.build_classifier import get_classifier\n",
    "from src.train_clf import train"
   ]
  },
  {
   "cell_type": "code",
   "execution_count": 2,
   "metadata": {},
   "outputs": [],
   "source": [
    "import matplotlib.pyplot as plt\n",
    "import numpy as np\n",
    "import torchvision.transforms.functional as FT\n",
    "import torch"
   ]
  },
  {
   "cell_type": "code",
   "execution_count": 3,
   "metadata": {},
   "outputs": [],
   "source": [
    "sys.path.append('..')\n",
    "from cifar.cifarRawCorrupted import get_original_loaders, get_corrupt_loaders"
   ]
  },
  {
   "cell_type": "code",
   "execution_count": 4,
   "metadata": {},
   "outputs": [],
   "source": [
    "device = 'cuda:1'\n",
    "model = define_model(device=device)"
   ]
  },
  {
   "cell_type": "code",
   "execution_count": 5,
   "metadata": {},
   "outputs": [],
   "source": [
    "c_loader = get_corrupt_loaders(model_name='vit', severity=1)\n"
   ]
  },
  {
   "cell_type": "code",
   "execution_count": 6,
   "metadata": {},
   "outputs": [],
   "source": [
    "u,kt = next(iter(c_loader))"
   ]
  },
  {
   "cell_type": "code",
   "execution_count": 7,
   "metadata": {},
   "outputs": [
    {
     "data": {
      "text/plain": [
       "torch.Size([64, 3, 224, 224])"
      ]
     },
     "execution_count": 7,
     "metadata": {},
     "output_type": "execute_result"
    }
   ],
   "source": [
    "u.shape"
   ]
  },
  {
   "cell_type": "code",
   "execution_count": 7,
   "metadata": {},
   "outputs": [
    {
     "data": {
      "text/plain": [
       "torch.Size([64, 192])"
      ]
     },
     "execution_count": 7,
     "metadata": {},
     "output_type": "execute_result"
    }
   ],
   "source": [
    "get_image_features(model, u.to(device)).shape"
   ]
  },
  {
   "cell_type": "code",
   "execution_count": 5,
   "metadata": {},
   "outputs": [
    {
     "name": "stdout",
     "output_type": "stream",
     "text": [
      "Files already downloaded and verified\n",
      "Files already downloaded and verified\n"
     ]
    }
   ],
   "source": [
    "vit_clf = get_classifier(feature_dim, output_classes=10, n_layers=1).to(device)\n",
    "train_loader, val_loader, test_loader = get_original_loaders(batch_size=1024, model_name='vit') \n",
    "test_corrupt_loader = get_corrupt_loaders(batch_size=1024, model_name='vit')"
   ]
  },
  {
   "cell_type": "code",
   "execution_count": 6,
   "metadata": {},
   "outputs": [],
   "source": [
    "loss_fn = torch.nn.CrossEntropyLoss()\n",
    "optim = torch.optim.Adam(vit_clf.parameters(), lr=0.001)\n",
    "n_epochs = 1"
   ]
  },
  {
   "cell_type": "code",
   "execution_count": 7,
   "metadata": {},
   "outputs": [
    {
     "name": "stderr",
     "output_type": "stream",
     "text": [
      "/home/omoussa/miniconda3/envs/brn/lib/python3.9/site-packages/torch/nn/modules/container.py:204: UserWarning: Implicit dimension choice for softmax has been deprecated. Change the call to include dim=X as an argument.\n",
      "  input = module(input)\n"
     ]
    },
    {
     "name": "stdout",
     "output_type": "stream",
     "text": [
      "initial loss 2.297089695930481 and initial accuracy 0.10561623424291611\n",
      " train loss: 1.576060163974762, val loss: 1.5215713143348695, Train accuracy 0.8961426019668579, val accuracy 0.9419762492179871 \n"
     ]
    }
   ],
   "source": [
    "losses, accs, val_losses, val_accs = train(model, vit_clf, optim=optim, loss_fn=loss_fn,\n",
    "                                           train_loader=train_loader, val_loader=val_loader,\n",
    "                                           feature_fn=get_image_features, epochs=n_epochs, device=device) #TODO resize im in clip transforms"
   ]
  },
  {
   "cell_type": "code",
   "execution_count": 8,
   "metadata": {},
   "outputs": [],
   "source": [
    "torch.save(vit_clf.state_dict(), '../saved_models/vit_clf_tt.pth')\n"
   ]
  },
  {
   "cell_type": "code",
   "execution_count": null,
   "metadata": {},
   "outputs": [],
   "source": []
  },
  {
   "cell_type": "code",
   "execution_count": 9,
   "metadata": {},
   "outputs": [
    {
     "name": "stdout",
     "output_type": "stream",
     "text": [
      "0.9419384\n"
     ]
    }
   ],
   "source": [
    "def get_acc(gt, preds = None):\n",
    "    if preds is not None: \n",
    "        return ((preds.argmax(1)==gt).sum()/len(preds)).cpu().numpy()\n",
    "        \n",
    "    \n",
    "    return ((preds.argmax(1)==gt).sum()/len(preds)).cpu().numpy()\n",
    "    \n",
    "\n",
    "def get_test_acc(emb_model, model, test_loader, feature_fn, device='cuda'):\n",
    "    eval_acc = []\n",
    "    eval_losses = []\n",
    "    for eval_batch in test_loader:\n",
    "        if len(eval_batch)>2:\n",
    "            _, ims, labels = eval_batch\n",
    "        else: \n",
    "            ims, labels = eval_batch\n",
    "        ims, labels = ims.to(device), labels.to(device)\n",
    "        with torch.no_grad():\n",
    "            features = feature_fn(emb_model, ims).squeeze()\n",
    "            preds = model(features)\n",
    "            val_acc = get_acc(labels.view(-1,), preds)\n",
    "        \n",
    "        eval_acc.append(val_acc)\n",
    "    \n",
    "    return np.mean(eval_acc)\n",
    "            # \n",
    "test_acc_orig = racc =  get_test_acc(model, vit_clf, test_loader, get_image_features, device=device,)\n",
    " \n",
    "print(test_acc_orig)"
   ]
  },
  {
   "cell_type": "code",
   "execution_count": 10,
   "metadata": {},
   "outputs": [
    {
     "name": "stderr",
     "output_type": "stream",
     "text": [
      "/home/omoussa/miniconda3/envs/brn/lib/python3.9/site-packages/torch/nn/modules/container.py:204: UserWarning: Implicit dimension choice for softmax has been deprecated. Change the call to include dim=X as an argument.\n",
      "  input = module(input)\n"
     ]
    },
    {
     "name": "stdout",
     "output_type": "stream",
     "text": [
      "{'gaussian_noise': {1: 0.8157047, 2: 0.69214964, 3: 0.56577843, 4: 0.5023956, 5: 0.4608817}}\n",
      "{'gaussian_noise': {1: 0.8157047, 2: 0.69214964, 3: 0.56577843, 4: 0.5023956, 5: 0.4608817}, 'speckle_noise': {1: 0.8630401, 2: 0.7723513, 3: 0.7180146, 4: 0.607099, 5: 0.51486963}}\n",
      "{'gaussian_noise': {1: 0.8157047, 2: 0.69214964, 3: 0.56577843, 4: 0.5023956, 5: 0.4608817}, 'speckle_noise': {1: 0.8630401, 2: 0.7723513, 3: 0.7180146, 4: 0.607099, 5: 0.51486963}, 'impulse_noise': {1: 0.88996935, 2: 0.8419563, 3: 0.7927077, 4: 0.6654018, 5: 0.54996216}}\n",
      "{'gaussian_noise': {1: 0.8157047, 2: 0.69214964, 3: 0.56577843, 4: 0.5023956, 5: 0.4608817}, 'speckle_noise': {1: 0.8630401, 2: 0.7723513, 3: 0.7180146, 4: 0.607099, 5: 0.51486963}, 'impulse_noise': {1: 0.88996935, 2: 0.8419563, 3: 0.7927077, 4: 0.6654018, 5: 0.54996216}, 'shot_noise': {1: 0.8587971, 2: 0.79785955, 3: 0.6485392, 4: 0.5892957, 5: 0.4926319}}\n"
     ]
    }
   ],
   "source": [
    "corrupts_dict = {}\n",
    "corrupt_g_acc = []\n",
    "for cr in ['gaussian_noise', 'speckle_noise', 'impulse_noise', 'shot_noise', ]:\n",
    "    corrupts_dict[cr] = {}\n",
    "    for sev in [1, 2, 3, 4, 5]:\n",
    "        test_loader_corrupt = get_corrupt_loaders(batch_size=1024, corruption_type=cr, severity=sev, model_name='vit')\n",
    "        acc =  get_test_acc(model, vit_clf, test_loader_corrupt, get_image_features, device=device,)\n",
    "                                \n",
    "\n",
    "        corrupts_dict[cr][sev]=acc\n",
    "    print(corrupts_dict)"
   ]
  },
  {
   "cell_type": "code",
   "execution_count": null,
   "metadata": {},
   "outputs": [],
   "source": []
  },
  {
   "cell_type": "code",
   "execution_count": null,
   "metadata": {},
   "outputs": [],
   "source": []
  },
  {
   "cell_type": "code",
   "execution_count": 15,
   "metadata": {},
   "outputs": [
    {
     "data": {
      "text/plain": [
       "{'gaussian_noise': {1: 0.797716,\n",
       "  2: 0.6710878,\n",
       "  3: 0.5398816,\n",
       "  4: 0.47904974,\n",
       "  5: 0.4321588},\n",
       " 'speckle_noise': {1: 0.85576975,\n",
       "  2: 0.75682396,\n",
       "  3: 0.699432,\n",
       "  4: 0.5807198,\n",
       "  5: 0.485792},\n",
       " 'impulse_noise': {1: 0.8809471,\n",
       "  2: 0.8299845,\n",
       "  3: 0.7735471,\n",
       "  4: 0.6436564,\n",
       "  5: 0.5237404},\n",
       " 'shot_noise': {1: 0.8467933,\n",
       "  2: 0.7868164,\n",
       "  3: 0.63079756,\n",
       "  4: 0.5654476,\n",
       "  5: 0.4617885}}"
      ]
     },
     "execution_count": 15,
     "metadata": {},
     "output_type": "execute_result"
    }
   ],
   "source": [
    "corrupts_dict #VITb16"
   ]
  },
  {
   "cell_type": "code",
   "execution_count": null,
   "metadata": {},
   "outputs": [],
   "source": []
  }
 ],
 "metadata": {
  "kernelspec": {
   "display_name": "Python 3.9.16 ('brn')",
   "language": "python",
   "name": "python3"
  },
  "language_info": {
   "codemirror_mode": {
    "name": "ipython",
    "version": 3
   },
   "file_extension": ".py",
   "mimetype": "text/x-python",
   "name": "python",
   "nbconvert_exporter": "python",
   "pygments_lexer": "ipython3",
   "version": "3.9.16"
  },
  "orig_nbformat": 4,
  "vscode": {
   "interpreter": {
    "hash": "c5b4607d21dcc400ead18a1c2ca0189f0fcf8d976d586df05f937ecd8ea5ac01"
   }
  }
 },
 "nbformat": 4,
 "nbformat_minor": 2
}
