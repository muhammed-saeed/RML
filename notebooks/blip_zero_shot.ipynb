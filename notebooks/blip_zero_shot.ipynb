{
 "cells": [
  {
   "cell_type": "code",
   "execution_count": 1,
   "metadata": {
    "ExecuteTime": {
     "end_time": "2023-07-27T12:57:51.318099100Z",
     "start_time": "2023-07-27T12:57:46.324530600Z"
    },
    "collapsed": false
   },
   "outputs": [],
   "source": [
    "import os\n",
    "import numpy as np\n",
    "import torch\n",
    "\n",
    "from tqdm.notebook import tqdm\n",
    "from src.imagenet_labels import lab_dict\n",
    "from lavis.processors.blip_processors import BlipCaptionProcessor\n",
    "from src.blip_lavis import define_model, get_transform\n",
    "from src.dataloaders import imagenet_c_dataloader, imagenet_dataloader\n",
    "\n",
    "\n",
    "# TODO: Read: Important notices:\n",
    "# Note that one transformation is happening as preprocessing goes (the blip one)\n",
    "# Note that only a low-dimensional projection of the features is used, namely, 'proj' in the next cell... the same for images... Consider checking the full dimension embeddings??\n",
    "\n",
    "# Note that blip1 is used and not blip2... naturally lavis variant and not huggingface\n",
    "# Note that 256 batch size is used due to memory limitations\n",
    "# Note that things work, with initial proof... they just need to be fully run tomorrow morning 27.07.2023\n",
    "# Note that each severity level takes 4 minutes to complete with batch size of 256 on a 3060TI 8GB"
   ]
  },
  {
   "cell_type": "code",
   "execution_count": 2,
   "metadata": {
    "ExecuteTime": {
     "end_time": "2023-07-27T12:57:51.367967300Z",
     "start_time": "2023-07-27T12:57:51.320094500Z"
    },
    "collapsed": false
   },
   "outputs": [
    {
     "name": "stdout",
     "output_type": "stream",
     "text": [
      "cuda\n"
     ]
    }
   ],
   "source": [
    "device = torch.device(\"cuda\" if torch.cuda.is_available() else \"cpu\")\n",
    "print(device)"
   ]
  },
  {
   "cell_type": "code",
   "execution_count": 3,
   "metadata": {
    "ExecuteTime": {
     "end_time": "2023-07-27T12:57:51.439774Z",
     "start_time": "2023-07-27T12:57:51.336051600Z"
    },
    "collapsed": true
   },
   "outputs": [],
   "source": [
    "cls_names = [lab_dict[i].replace('_', ' ') for i in os.listdir('../data/imagenet')]\n",
    "\n",
    "text_processor = BlipCaptionProcessor(prompt=\"A picture of \")\n",
    "\n",
    "cls_prompt = [text_processor(cls_nm) for cls_nm in cls_names]"
   ]
  },
  {
   "cell_type": "code",
   "execution_count": 4,
   "metadata": {
    "ExecuteTime": {
     "end_time": "2023-07-27T12:57:51.515571700Z",
     "start_time": "2023-07-27T12:57:51.350013700Z"
    },
    "collapsed": false
   },
   "outputs": [
    {
     "data": {
      "text/plain": [
       "['A picture of tench',\n",
       " 'A picture of goldfish',\n",
       " 'A picture of great white shark',\n",
       " 'A picture of tiger shark',\n",
       " 'A picture of hammerhead',\n",
       " 'A picture of electric ray',\n",
       " 'A picture of stingray',\n",
       " 'A picture of cock',\n",
       " 'A picture of hen',\n",
       " 'A picture of ostrich',\n",
       " 'A picture of brambling',\n",
       " 'A picture of goldfinch',\n",
       " 'A picture of house finch',\n",
       " 'A picture of junco',\n",
       " 'A picture of indigo bunting',\n",
       " 'A picture of robin',\n",
       " 'A picture of bulbul',\n",
       " 'A picture of jay',\n",
       " 'A picture of magpie',\n",
       " 'A picture of chickadee',\n",
       " 'A picture of water ouzel',\n",
       " 'A picture of kite',\n",
       " 'A picture of bald eagle',\n",
       " 'A picture of vulture',\n",
       " 'A picture of great grey owl',\n",
       " 'A picture of european fire salamander',\n",
       " 'A picture of common newt',\n",
       " 'A picture of eft',\n",
       " 'A picture of spotted salamander',\n",
       " 'A picture of axolotl',\n",
       " 'A picture of bullfrog',\n",
       " 'A picture of tree frog',\n",
       " 'A picture of tailed frog',\n",
       " 'A picture of loggerhead',\n",
       " 'A picture of leatherback turtle',\n",
       " 'A picture of mud turtle',\n",
       " 'A picture of terrapin',\n",
       " 'A picture of box turtle',\n",
       " 'A picture of banded gecko',\n",
       " 'A picture of common iguana',\n",
       " 'A picture of american chameleon',\n",
       " 'A picture of whiptail',\n",
       " 'A picture of agama',\n",
       " 'A picture of frilled lizard',\n",
       " 'A picture of alligator lizard',\n",
       " 'A picture of gila monster',\n",
       " 'A picture of green lizard',\n",
       " 'A picture of african chameleon',\n",
       " 'A picture of komodo dragon',\n",
       " 'A picture of african crocodile',\n",
       " 'A picture of american alligator',\n",
       " 'A picture of triceratops',\n",
       " 'A picture of thunder snake',\n",
       " 'A picture of ringneck snake',\n",
       " 'A picture of hognose snake',\n",
       " 'A picture of green snake',\n",
       " 'A picture of king snake',\n",
       " 'A picture of garter snake',\n",
       " 'A picture of water snake',\n",
       " 'A picture of vine snake',\n",
       " 'A picture of night snake',\n",
       " 'A picture of boa constrictor',\n",
       " 'A picture of rock python',\n",
       " 'A picture of indian cobra',\n",
       " 'A picture of green mamba',\n",
       " 'A picture of sea snake',\n",
       " 'A picture of horned viper',\n",
       " 'A picture of diamondback',\n",
       " 'A picture of sidewinder',\n",
       " 'A picture of trilobite',\n",
       " 'A picture of harvestman',\n",
       " 'A picture of scorpion',\n",
       " 'A picture of black and gold garden spider',\n",
       " 'A picture of barn spider',\n",
       " 'A picture of garden spider',\n",
       " 'A picture of black widow',\n",
       " 'A picture of tarantula',\n",
       " 'A picture of wolf spider',\n",
       " 'A picture of tick',\n",
       " 'A picture of centipede',\n",
       " 'A picture of black grouse',\n",
       " 'A picture of ptarmigan',\n",
       " 'A picture of ruffed grouse',\n",
       " 'A picture of prairie chicken',\n",
       " 'A picture of peacock',\n",
       " 'A picture of quail',\n",
       " 'A picture of partridge',\n",
       " 'A picture of african grey',\n",
       " 'A picture of macaw',\n",
       " 'A picture of sulphur-crested cockatoo',\n",
       " 'A picture of lorikeet',\n",
       " 'A picture of coucal',\n",
       " 'A picture of bee eater',\n",
       " 'A picture of hornbill',\n",
       " 'A picture of hummingbird',\n",
       " 'A picture of jacamar',\n",
       " 'A picture of toucan',\n",
       " 'A picture of drake',\n",
       " 'A picture of red-breasted merganser',\n",
       " 'A picture of goose',\n",
       " 'A picture of black swan',\n",
       " 'A picture of tusker',\n",
       " 'A picture of echidna',\n",
       " 'A picture of platypus',\n",
       " 'A picture of wallaby',\n",
       " 'A picture of koala',\n",
       " 'A picture of wombat',\n",
       " 'A picture of jellyfish',\n",
       " 'A picture of sea anemone',\n",
       " 'A picture of brain coral',\n",
       " 'A picture of flatworm',\n",
       " 'A picture of nematode',\n",
       " 'A picture of conch',\n",
       " 'A picture of snail',\n",
       " 'A picture of slug',\n",
       " 'A picture of sea slug',\n",
       " 'A picture of chiton',\n",
       " 'A picture of chambered nautilus',\n",
       " 'A picture of dungeness crab',\n",
       " 'A picture of rock crab',\n",
       " 'A picture of fiddler crab',\n",
       " 'A picture of king crab',\n",
       " 'A picture of american lobster',\n",
       " 'A picture of spiny lobster',\n",
       " 'A picture of crayfish',\n",
       " 'A picture of hermit crab',\n",
       " 'A picture of isopod',\n",
       " 'A picture of white stork',\n",
       " 'A picture of black stork',\n",
       " 'A picture of spoonbill',\n",
       " 'A picture of flamingo',\n",
       " 'A picture of little blue heron',\n",
       " 'A picture of american egret',\n",
       " 'A picture of bittern',\n",
       " 'A picture of crane',\n",
       " 'A picture of limpkin',\n",
       " 'A picture of european gallinule',\n",
       " 'A picture of american coot',\n",
       " 'A picture of bustard',\n",
       " 'A picture of ruddy turnstone',\n",
       " 'A picture of red-backed sandpiper',\n",
       " 'A picture of redshank',\n",
       " 'A picture of dowitcher',\n",
       " 'A picture of oystercatcher',\n",
       " 'A picture of pelican',\n",
       " 'A picture of king penguin',\n",
       " 'A picture of albatross',\n",
       " 'A picture of grey whale',\n",
       " 'A picture of killer whale',\n",
       " 'A picture of dugong',\n",
       " 'A picture of sea lion',\n",
       " 'A picture of chihuahua',\n",
       " 'A picture of japanese spaniel',\n",
       " 'A picture of maltese dog',\n",
       " 'A picture of pekinese',\n",
       " 'A picture of shih-tzu',\n",
       " 'A picture of blenheim spaniel',\n",
       " 'A picture of papillon',\n",
       " 'A picture of toy terrier',\n",
       " 'A picture of rhodesian ridgeback',\n",
       " 'A picture of afghan hound',\n",
       " 'A picture of basset',\n",
       " 'A picture of beagle',\n",
       " 'A picture of bloodhound',\n",
       " 'A picture of bluetick',\n",
       " 'A picture of black-and-tan coonhound',\n",
       " 'A picture of walker hound',\n",
       " 'A picture of english foxhound',\n",
       " 'A picture of redbone',\n",
       " 'A picture of borzoi',\n",
       " 'A picture of irish wolfhound',\n",
       " 'A picture of italian greyhound',\n",
       " 'A picture of whippet',\n",
       " 'A picture of ibizan hound',\n",
       " 'A picture of norwegian elkhound',\n",
       " 'A picture of otterhound',\n",
       " 'A picture of saluki',\n",
       " 'A picture of scottish deerhound',\n",
       " 'A picture of weimaraner',\n",
       " 'A picture of staffordshire bullterrier',\n",
       " 'A picture of american staffordshire terrier',\n",
       " 'A picture of bedlington terrier',\n",
       " 'A picture of border terrier',\n",
       " 'A picture of kerry blue terrier',\n",
       " 'A picture of irish terrier',\n",
       " 'A picture of norfolk terrier',\n",
       " 'A picture of norwich terrier',\n",
       " 'A picture of yorkshire terrier',\n",
       " 'A picture of wire-haired fox terrier',\n",
       " 'A picture of lakeland terrier',\n",
       " 'A picture of sealyham terrier',\n",
       " 'A picture of airedale',\n",
       " 'A picture of cairn',\n",
       " 'A picture of australian terrier',\n",
       " 'A picture of dandie dinmont',\n",
       " 'A picture of boston bull',\n",
       " 'A picture of miniature schnauzer',\n",
       " 'A picture of giant schnauzer',\n",
       " 'A picture of standard schnauzer',\n",
       " 'A picture of scotch terrier',\n",
       " 'A picture of tibetan terrier',\n",
       " 'A picture of silky terrier',\n",
       " 'A picture of soft-coated wheaten terrier',\n",
       " 'A picture of west highland white terrier',\n",
       " 'A picture of lhasa',\n",
       " 'A picture of flat-coated retriever',\n",
       " 'A picture of curly-coated retriever',\n",
       " 'A picture of golden retriever',\n",
       " 'A picture of labrador retriever',\n",
       " 'A picture of chesapeake bay retriever',\n",
       " 'A picture of german short-haired pointer',\n",
       " 'A picture of vizsla',\n",
       " 'A picture of english setter',\n",
       " 'A picture of irish setter',\n",
       " 'A picture of gordon setter',\n",
       " 'A picture of brittany spaniel',\n",
       " 'A picture of clumber',\n",
       " 'A picture of english springer',\n",
       " 'A picture of welsh springer spaniel',\n",
       " 'A picture of cocker spaniel',\n",
       " 'A picture of sussex spaniel',\n",
       " 'A picture of irish water spaniel',\n",
       " 'A picture of kuvasz',\n",
       " 'A picture of schipperke',\n",
       " 'A picture of groenendael',\n",
       " 'A picture of malinois',\n",
       " 'A picture of briard',\n",
       " 'A picture of kelpie',\n",
       " 'A picture of komondor',\n",
       " 'A picture of old english sheepdog',\n",
       " 'A picture of shetland sheepdog',\n",
       " 'A picture of collie',\n",
       " 'A picture of border collie',\n",
       " 'A picture of bouvier des flandres',\n",
       " 'A picture of rottweiler',\n",
       " 'A picture of german shepherd',\n",
       " 'A picture of doberman',\n",
       " 'A picture of miniature pinscher',\n",
       " 'A picture of greater swiss mountain dog',\n",
       " 'A picture of bernese mountain dog',\n",
       " 'A picture of appenzeller',\n",
       " 'A picture of entlebucher',\n",
       " 'A picture of boxer',\n",
       " 'A picture of bull mastiff',\n",
       " 'A picture of tibetan mastiff',\n",
       " 'A picture of french bulldog',\n",
       " 'A picture of great dane',\n",
       " 'A picture of saint bernard',\n",
       " 'A picture of eskimo dog',\n",
       " 'A picture of malamute',\n",
       " 'A picture of siberian husky',\n",
       " 'A picture of dalmatian',\n",
       " 'A picture of affenpinscher',\n",
       " 'A picture of basenji',\n",
       " 'A picture of pug',\n",
       " 'A picture of leonberg',\n",
       " 'A picture of newfoundland',\n",
       " 'A picture of great pyrenees',\n",
       " 'A picture of samoyed',\n",
       " 'A picture of pomeranian',\n",
       " 'A picture of chow',\n",
       " 'A picture of keeshond',\n",
       " 'A picture of brabancon griffon',\n",
       " 'A picture of pembroke',\n",
       " 'A picture of cardigan',\n",
       " 'A picture of toy poodle',\n",
       " 'A picture of miniature poodle',\n",
       " 'A picture of standard poodle',\n",
       " 'A picture of mexican hairless',\n",
       " 'A picture of timber wolf',\n",
       " 'A picture of white wolf',\n",
       " 'A picture of red wolf',\n",
       " 'A picture of coyote',\n",
       " 'A picture of dingo',\n",
       " 'A picture of dhole',\n",
       " 'A picture of african hunting dog',\n",
       " 'A picture of hyena',\n",
       " 'A picture of red fox',\n",
       " 'A picture of kit fox',\n",
       " 'A picture of arctic fox',\n",
       " 'A picture of grey fox',\n",
       " 'A picture of tabby',\n",
       " 'A picture of tiger cat',\n",
       " 'A picture of persian cat',\n",
       " 'A picture of siamese cat',\n",
       " 'A picture of egyptian cat',\n",
       " 'A picture of cougar',\n",
       " 'A picture of lynx',\n",
       " 'A picture of leopard',\n",
       " 'A picture of snow leopard',\n",
       " 'A picture of jaguar',\n",
       " 'A picture of lion',\n",
       " 'A picture of tiger',\n",
       " 'A picture of cheetah',\n",
       " 'A picture of brown bear',\n",
       " 'A picture of american black bear',\n",
       " 'A picture of ice bear',\n",
       " 'A picture of sloth bear',\n",
       " 'A picture of mongoose',\n",
       " 'A picture of meerkat',\n",
       " 'A picture of tiger beetle',\n",
       " 'A picture of ladybug',\n",
       " 'A picture of ground beetle',\n",
       " 'A picture of long-horned beetle',\n",
       " 'A picture of leaf beetle',\n",
       " 'A picture of dung beetle',\n",
       " 'A picture of rhinoceros beetle',\n",
       " 'A picture of weevil',\n",
       " 'A picture of fly',\n",
       " 'A picture of bee',\n",
       " 'A picture of ant',\n",
       " 'A picture of grasshopper',\n",
       " 'A picture of cricket',\n",
       " 'A picture of walking stick',\n",
       " 'A picture of cockroach',\n",
       " 'A picture of mantis',\n",
       " 'A picture of cicada',\n",
       " 'A picture of leafhopper',\n",
       " 'A picture of lacewing',\n",
       " 'A picture of dragonfly',\n",
       " 'A picture of damselfly',\n",
       " 'A picture of admiral',\n",
       " 'A picture of ringlet',\n",
       " 'A picture of monarch',\n",
       " 'A picture of cabbage butterfly',\n",
       " 'A picture of sulphur butterfly',\n",
       " 'A picture of lycaenid',\n",
       " 'A picture of starfish',\n",
       " 'A picture of sea urchin',\n",
       " 'A picture of sea cucumber',\n",
       " 'A picture of wood rabbit',\n",
       " 'A picture of hare',\n",
       " 'A picture of angora',\n",
       " 'A picture of hamster',\n",
       " 'A picture of porcupine',\n",
       " 'A picture of fox squirrel',\n",
       " 'A picture of marmot',\n",
       " 'A picture of beaver',\n",
       " 'A picture of guinea pig',\n",
       " 'A picture of sorrel',\n",
       " 'A picture of zebra',\n",
       " 'A picture of hog',\n",
       " 'A picture of wild boar',\n",
       " 'A picture of warthog',\n",
       " 'A picture of hippopotamus',\n",
       " 'A picture of ox',\n",
       " 'A picture of water buffalo',\n",
       " 'A picture of bison',\n",
       " 'A picture of ram',\n",
       " 'A picture of bighorn',\n",
       " 'A picture of ibex',\n",
       " 'A picture of hartebeest',\n",
       " 'A picture of impala',\n",
       " 'A picture of gazelle',\n",
       " 'A picture of arabian camel',\n",
       " 'A picture of llama',\n",
       " 'A picture of weasel',\n",
       " 'A picture of mink',\n",
       " 'A picture of polecat',\n",
       " 'A picture of black-footed ferret',\n",
       " 'A picture of otter',\n",
       " 'A picture of skunk',\n",
       " 'A picture of badger',\n",
       " 'A picture of armadillo',\n",
       " 'A picture of three-toed sloth',\n",
       " 'A picture of orangutan',\n",
       " 'A picture of gorilla',\n",
       " 'A picture of chimpanzee',\n",
       " 'A picture of gibbon',\n",
       " 'A picture of siamang',\n",
       " 'A picture of guenon',\n",
       " 'A picture of patas',\n",
       " 'A picture of baboon',\n",
       " 'A picture of macaque',\n",
       " 'A picture of langur',\n",
       " 'A picture of colobus',\n",
       " 'A picture of proboscis monkey',\n",
       " 'A picture of marmoset',\n",
       " 'A picture of capuchin',\n",
       " 'A picture of howler monkey',\n",
       " 'A picture of titi',\n",
       " 'A picture of spider monkey',\n",
       " 'A picture of squirrel monkey',\n",
       " 'A picture of madagascar cat',\n",
       " 'A picture of indri',\n",
       " 'A picture of indian elephant',\n",
       " 'A picture of african elephant',\n",
       " 'A picture of lesser panda',\n",
       " 'A picture of giant panda',\n",
       " 'A picture of barracouta',\n",
       " 'A picture of eel',\n",
       " 'A picture of coho',\n",
       " 'A picture of rock beauty',\n",
       " 'A picture of anemone fish',\n",
       " 'A picture of sturgeon',\n",
       " 'A picture of gar',\n",
       " 'A picture of lionfish',\n",
       " 'A picture of puffer',\n",
       " 'A picture of abacus',\n",
       " 'A picture of abaya',\n",
       " 'A picture of academic gown',\n",
       " 'A picture of accordion',\n",
       " 'A picture of acoustic guitar',\n",
       " 'A picture of aircraft carrier',\n",
       " 'A picture of airliner',\n",
       " 'A picture of airship',\n",
       " 'A picture of altar',\n",
       " 'A picture of ambulance',\n",
       " 'A picture of amphibian',\n",
       " 'A picture of analog clock',\n",
       " 'A picture of apiary',\n",
       " 'A picture of apron',\n",
       " 'A picture of ashcan',\n",
       " 'A picture of assault rifle',\n",
       " 'A picture of backpack',\n",
       " 'A picture of bakery',\n",
       " 'A picture of balance beam',\n",
       " 'A picture of balloon',\n",
       " 'A picture of ballpoint',\n",
       " 'A picture of band aid',\n",
       " 'A picture of banjo',\n",
       " 'A picture of bannister',\n",
       " 'A picture of barbell',\n",
       " 'A picture of barber chair',\n",
       " 'A picture of barbershop',\n",
       " 'A picture of barn',\n",
       " 'A picture of barometer',\n",
       " 'A picture of barrel',\n",
       " 'A picture of barrow',\n",
       " 'A picture of baseball',\n",
       " 'A picture of basketball',\n",
       " 'A picture of bassinet',\n",
       " 'A picture of bassoon',\n",
       " 'A picture of bathing cap',\n",
       " 'A picture of bath towel',\n",
       " 'A picture of bathtub',\n",
       " 'A picture of beach wagon',\n",
       " 'A picture of beacon',\n",
       " 'A picture of beaker',\n",
       " 'A picture of bearskin',\n",
       " 'A picture of beer bottle',\n",
       " 'A picture of beer glass',\n",
       " 'A picture of bell cote',\n",
       " 'A picture of bib',\n",
       " 'A picture of bicycle-built-for-two',\n",
       " 'A picture of bikini',\n",
       " 'A picture of binder',\n",
       " 'A picture of binoculars',\n",
       " 'A picture of birdhouse',\n",
       " 'A picture of boathouse',\n",
       " 'A picture of bobsled',\n",
       " 'A picture of bolo tie',\n",
       " 'A picture of bonnet',\n",
       " 'A picture of bookcase',\n",
       " 'A picture of bookshop',\n",
       " 'A picture of bottlecap',\n",
       " 'A picture of bow',\n",
       " 'A picture of bow tie',\n",
       " 'A picture of brass',\n",
       " 'A picture of brassiere',\n",
       " 'A picture of breakwater',\n",
       " 'A picture of breastplate',\n",
       " 'A picture of broom',\n",
       " 'A picture of bucket',\n",
       " 'A picture of buckle',\n",
       " 'A picture of bulletproof vest',\n",
       " 'A picture of bullet train',\n",
       " 'A picture of butcher shop',\n",
       " 'A picture of cab',\n",
       " 'A picture of caldron',\n",
       " 'A picture of candle',\n",
       " 'A picture of cannon',\n",
       " 'A picture of canoe',\n",
       " 'A picture of can opener',\n",
       " 'A picture of cardigan',\n",
       " 'A picture of car mirror',\n",
       " 'A picture of carousel',\n",
       " \"A picture of carpenter's kit\",\n",
       " 'A picture of carton',\n",
       " 'A picture of car wheel',\n",
       " 'A picture of cash machine',\n",
       " 'A picture of cassette',\n",
       " 'A picture of cassette player',\n",
       " 'A picture of castle',\n",
       " 'A picture of catamaran',\n",
       " 'A picture of cd player',\n",
       " 'A picture of cello',\n",
       " 'A picture of cellular telephone',\n",
       " 'A picture of chain',\n",
       " 'A picture of chainlink fence',\n",
       " 'A picture of chain mail',\n",
       " 'A picture of chain saw',\n",
       " 'A picture of chest',\n",
       " 'A picture of chiffonier',\n",
       " 'A picture of chime',\n",
       " 'A picture of china cabinet',\n",
       " 'A picture of christmas stocking',\n",
       " 'A picture of church',\n",
       " 'A picture of cinema',\n",
       " 'A picture of cleaver',\n",
       " 'A picture of cliff dwelling',\n",
       " 'A picture of cloak',\n",
       " 'A picture of clog',\n",
       " 'A picture of cocktail shaker',\n",
       " 'A picture of coffee mug',\n",
       " 'A picture of coffeepot',\n",
       " 'A picture of coil',\n",
       " 'A picture of combination lock',\n",
       " 'A picture of computer keyboard',\n",
       " 'A picture of confectionery',\n",
       " 'A picture of container ship',\n",
       " 'A picture of convertible',\n",
       " 'A picture of corkscrew',\n",
       " 'A picture of cornet',\n",
       " 'A picture of cowboy boot',\n",
       " 'A picture of cowboy hat',\n",
       " 'A picture of cradle',\n",
       " 'A picture of crane',\n",
       " 'A picture of crash helmet',\n",
       " 'A picture of crate',\n",
       " 'A picture of crib',\n",
       " 'A picture of crock pot',\n",
       " 'A picture of croquet ball',\n",
       " 'A picture of crutch',\n",
       " 'A picture of cuirass',\n",
       " 'A picture of dam',\n",
       " 'A picture of desk',\n",
       " 'A picture of desktop computer',\n",
       " 'A picture of dial telephone',\n",
       " 'A picture of diaper',\n",
       " 'A picture of digital clock',\n",
       " 'A picture of digital watch',\n",
       " 'A picture of dining table',\n",
       " 'A picture of dishrag',\n",
       " 'A picture of dishwasher',\n",
       " 'A picture of disk brake',\n",
       " 'A picture of dock',\n",
       " 'A picture of dogsled',\n",
       " 'A picture of dome',\n",
       " 'A picture of doormat',\n",
       " 'A picture of drilling platform',\n",
       " 'A picture of drum',\n",
       " 'A picture of drumstick',\n",
       " 'A picture of dumbbell',\n",
       " 'A picture of dutch oven',\n",
       " 'A picture of electric fan',\n",
       " 'A picture of electric guitar',\n",
       " 'A picture of electric locomotive',\n",
       " 'A picture of entertainment center',\n",
       " 'A picture of envelope',\n",
       " 'A picture of espresso maker',\n",
       " 'A picture of face powder',\n",
       " 'A picture of feather boa',\n",
       " 'A picture of file',\n",
       " 'A picture of fireboat',\n",
       " 'A picture of fire engine',\n",
       " 'A picture of fire screen',\n",
       " 'A picture of flagpole',\n",
       " 'A picture of flute',\n",
       " 'A picture of folding chair',\n",
       " 'A picture of football helmet',\n",
       " 'A picture of forklift',\n",
       " 'A picture of fountain',\n",
       " 'A picture of fountain pen',\n",
       " 'A picture of four-poster',\n",
       " 'A picture of freight car',\n",
       " 'A picture of french horn',\n",
       " 'A picture of frying pan',\n",
       " 'A picture of fur coat',\n",
       " 'A picture of garbage truck',\n",
       " 'A picture of gasmask',\n",
       " 'A picture of gas pump',\n",
       " 'A picture of goblet',\n",
       " 'A picture of go-kart',\n",
       " 'A picture of golf ball',\n",
       " 'A picture of golfcart',\n",
       " 'A picture of gondola',\n",
       " 'A picture of gong',\n",
       " 'A picture of gown',\n",
       " 'A picture of grand piano',\n",
       " 'A picture of greenhouse',\n",
       " 'A picture of grille',\n",
       " 'A picture of grocery store',\n",
       " 'A picture of guillotine',\n",
       " 'A picture of hair slide',\n",
       " 'A picture of hair spray',\n",
       " 'A picture of half track',\n",
       " 'A picture of hammer',\n",
       " 'A picture of hamper',\n",
       " 'A picture of hand blower',\n",
       " 'A picture of hand-held computer',\n",
       " 'A picture of handkerchief',\n",
       " 'A picture of hard disc',\n",
       " 'A picture of harmonica',\n",
       " 'A picture of harp',\n",
       " 'A picture of harvester',\n",
       " 'A picture of hatchet',\n",
       " 'A picture of holster',\n",
       " 'A picture of home theater',\n",
       " 'A picture of honeycomb',\n",
       " 'A picture of hook',\n",
       " 'A picture of hoopskirt',\n",
       " 'A picture of horizontal bar',\n",
       " 'A picture of horse cart',\n",
       " 'A picture of hourglass',\n",
       " 'A picture of ipod',\n",
       " 'A picture of iron',\n",
       " \"A picture of jack-o'-lantern\",\n",
       " 'A picture of jean',\n",
       " 'A picture of jeep',\n",
       " 'A picture of jersey',\n",
       " 'A picture of jigsaw puzzle',\n",
       " 'A picture of jinrikisha',\n",
       " 'A picture of joystick',\n",
       " 'A picture of kimono',\n",
       " 'A picture of knee pad',\n",
       " 'A picture of knot',\n",
       " 'A picture of lab coat',\n",
       " 'A picture of ladle',\n",
       " 'A picture of lampshade',\n",
       " 'A picture of laptop',\n",
       " 'A picture of lawn mower',\n",
       " 'A picture of lens cap',\n",
       " 'A picture of letter opener',\n",
       " 'A picture of library',\n",
       " 'A picture of lifeboat',\n",
       " 'A picture of lighter',\n",
       " 'A picture of limousine',\n",
       " 'A picture of liner',\n",
       " 'A picture of lipstick',\n",
       " 'A picture of loafer',\n",
       " 'A picture of lotion',\n",
       " 'A picture of loudspeaker',\n",
       " 'A picture of loupe',\n",
       " 'A picture of lumbermill',\n",
       " 'A picture of magnetic compass',\n",
       " 'A picture of mailbag',\n",
       " 'A picture of mailbox',\n",
       " 'A picture of maillot',\n",
       " 'A picture of maillot',\n",
       " 'A picture of manhole cover',\n",
       " 'A picture of maraca',\n",
       " 'A picture of marimba',\n",
       " 'A picture of mask',\n",
       " 'A picture of matchstick',\n",
       " 'A picture of maypole',\n",
       " 'A picture of maze',\n",
       " 'A picture of measuring cup',\n",
       " 'A picture of medicine chest',\n",
       " 'A picture of megalith',\n",
       " 'A picture of microphone',\n",
       " 'A picture of microwave',\n",
       " 'A picture of military uniform',\n",
       " 'A picture of milk can',\n",
       " 'A picture of minibus',\n",
       " 'A picture of miniskirt',\n",
       " 'A picture of minivan',\n",
       " 'A picture of missile',\n",
       " 'A picture of mitten',\n",
       " 'A picture of mixing bowl',\n",
       " 'A picture of mobile home',\n",
       " 'A picture of model t',\n",
       " 'A picture of modem',\n",
       " 'A picture of monastery',\n",
       " 'A picture of monitor',\n",
       " 'A picture of moped',\n",
       " 'A picture of mortar',\n",
       " 'A picture of mortarboard',\n",
       " 'A picture of mosque',\n",
       " 'A picture of mosquito net',\n",
       " 'A picture of motor scooter',\n",
       " 'A picture of mountain bike',\n",
       " 'A picture of mountain tent',\n",
       " 'A picture of mouse',\n",
       " 'A picture of mousetrap',\n",
       " 'A picture of moving van',\n",
       " 'A picture of muzzle',\n",
       " 'A picture of nail',\n",
       " 'A picture of neck brace',\n",
       " 'A picture of necklace',\n",
       " 'A picture of nipple',\n",
       " 'A picture of notebook',\n",
       " 'A picture of obelisk',\n",
       " 'A picture of oboe',\n",
       " 'A picture of ocarina',\n",
       " 'A picture of odometer',\n",
       " 'A picture of oil filter',\n",
       " 'A picture of organ',\n",
       " 'A picture of oscilloscope',\n",
       " 'A picture of overskirt',\n",
       " 'A picture of oxcart',\n",
       " 'A picture of oxygen mask',\n",
       " 'A picture of packet',\n",
       " 'A picture of paddle',\n",
       " 'A picture of paddlewheel',\n",
       " 'A picture of padlock',\n",
       " 'A picture of paintbrush',\n",
       " 'A picture of pajama',\n",
       " 'A picture of palace',\n",
       " 'A picture of panpipe',\n",
       " 'A picture of paper towel',\n",
       " 'A picture of parachute',\n",
       " 'A picture of parallel bars',\n",
       " 'A picture of park bench',\n",
       " 'A picture of parking meter',\n",
       " 'A picture of passenger car',\n",
       " 'A picture of patio',\n",
       " 'A picture of pay-phone',\n",
       " 'A picture of pedestal',\n",
       " 'A picture of pencil box',\n",
       " 'A picture of pencil sharpener',\n",
       " 'A picture of perfume',\n",
       " 'A picture of petri dish',\n",
       " 'A picture of photocopier',\n",
       " 'A picture of pick',\n",
       " 'A picture of pickelhaube',\n",
       " 'A picture of picket fence',\n",
       " 'A picture of pickup',\n",
       " 'A picture of pier',\n",
       " 'A picture of piggy bank',\n",
       " 'A picture of pill bottle',\n",
       " 'A picture of pillow',\n",
       " 'A picture of ping-pong ball',\n",
       " 'A picture of pinwheel',\n",
       " 'A picture of pirate',\n",
       " 'A picture of pitcher',\n",
       " 'A picture of plane',\n",
       " 'A picture of planetarium',\n",
       " 'A picture of plastic bag',\n",
       " 'A picture of plate rack',\n",
       " 'A picture of plow',\n",
       " 'A picture of plunger',\n",
       " 'A picture of polaroid camera',\n",
       " 'A picture of pole',\n",
       " 'A picture of police van',\n",
       " 'A picture of poncho',\n",
       " 'A picture of pool table',\n",
       " 'A picture of pop bottle',\n",
       " 'A picture of pot',\n",
       " \"A picture of potter's wheel\",\n",
       " 'A picture of power drill',\n",
       " 'A picture of prayer rug',\n",
       " 'A picture of printer',\n",
       " 'A picture of prison',\n",
       " 'A picture of projectile',\n",
       " 'A picture of projector',\n",
       " 'A picture of puck',\n",
       " 'A picture of punching bag',\n",
       " 'A picture of purse',\n",
       " 'A picture of quill',\n",
       " 'A picture of quilt',\n",
       " 'A picture of racer',\n",
       " 'A picture of racket',\n",
       " 'A picture of radiator',\n",
       " 'A picture of radio',\n",
       " 'A picture of radio telescope',\n",
       " 'A picture of rain barrel',\n",
       " 'A picture of recreational vehicle',\n",
       " 'A picture of reel',\n",
       " 'A picture of reflex camera',\n",
       " 'A picture of refrigerator',\n",
       " 'A picture of remote control',\n",
       " 'A picture of restaurant',\n",
       " 'A picture of revolver',\n",
       " 'A picture of rifle',\n",
       " 'A picture of rocking chair',\n",
       " 'A picture of rotisserie',\n",
       " 'A picture of rubber eraser',\n",
       " 'A picture of rugby ball',\n",
       " 'A picture of rule',\n",
       " 'A picture of running shoe',\n",
       " 'A picture of safe',\n",
       " 'A picture of safety pin',\n",
       " 'A picture of saltshaker',\n",
       " 'A picture of sandal',\n",
       " 'A picture of sarong',\n",
       " 'A picture of sax',\n",
       " 'A picture of scabbard',\n",
       " 'A picture of scale',\n",
       " 'A picture of school bus',\n",
       " 'A picture of schooner',\n",
       " 'A picture of scoreboard',\n",
       " 'A picture of screen',\n",
       " 'A picture of screw',\n",
       " 'A picture of screwdriver',\n",
       " 'A picture of seat belt',\n",
       " 'A picture of sewing machine',\n",
       " 'A picture of shield',\n",
       " 'A picture of shoe shop',\n",
       " 'A picture of shoji',\n",
       " 'A picture of shopping basket',\n",
       " 'A picture of shopping cart',\n",
       " 'A picture of shovel',\n",
       " 'A picture of shower cap',\n",
       " 'A picture of shower curtain',\n",
       " 'A picture of ski',\n",
       " 'A picture of ski mask',\n",
       " 'A picture of sleeping bag',\n",
       " 'A picture of slide rule',\n",
       " 'A picture of sliding door',\n",
       " 'A picture of slot',\n",
       " 'A picture of snorkel',\n",
       " 'A picture of snowmobile',\n",
       " 'A picture of snowplow',\n",
       " 'A picture of soap dispenser',\n",
       " 'A picture of soccer ball',\n",
       " 'A picture of sock',\n",
       " 'A picture of solar dish',\n",
       " 'A picture of sombrero',\n",
       " 'A picture of soup bowl',\n",
       " 'A picture of space bar',\n",
       " 'A picture of space heater',\n",
       " 'A picture of space shuttle',\n",
       " 'A picture of spatula',\n",
       " 'A picture of speedboat',\n",
       " 'A picture of spider web',\n",
       " 'A picture of spindle',\n",
       " 'A picture of sports car',\n",
       " 'A picture of spotlight',\n",
       " 'A picture of stage',\n",
       " 'A picture of steam locomotive',\n",
       " 'A picture of steel arch bridge',\n",
       " 'A picture of steel drum',\n",
       " 'A picture of stethoscope',\n",
       " 'A picture of stole',\n",
       " 'A picture of stone wall',\n",
       " 'A picture of stopwatch',\n",
       " 'A picture of stove',\n",
       " 'A picture of strainer',\n",
       " 'A picture of streetcar',\n",
       " 'A picture of stretcher',\n",
       " 'A picture of studio couch',\n",
       " 'A picture of stupa',\n",
       " 'A picture of submarine',\n",
       " 'A picture of suit',\n",
       " 'A picture of sundial',\n",
       " 'A picture of sunglass',\n",
       " 'A picture of sunglasses',\n",
       " 'A picture of sunscreen',\n",
       " 'A picture of suspension bridge',\n",
       " 'A picture of swab',\n",
       " 'A picture of sweatshirt',\n",
       " 'A picture of swimming trunks',\n",
       " 'A picture of swing',\n",
       " 'A picture of switch',\n",
       " 'A picture of syringe',\n",
       " 'A picture of table lamp',\n",
       " 'A picture of tank',\n",
       " 'A picture of tape player',\n",
       " 'A picture of teapot',\n",
       " 'A picture of teddy',\n",
       " 'A picture of television',\n",
       " 'A picture of tennis ball',\n",
       " 'A picture of thatch',\n",
       " 'A picture of theater curtain',\n",
       " 'A picture of thimble',\n",
       " 'A picture of thresher',\n",
       " 'A picture of throne',\n",
       " 'A picture of tile roof',\n",
       " 'A picture of toaster',\n",
       " 'A picture of tobacco shop',\n",
       " 'A picture of toilet seat',\n",
       " 'A picture of torch',\n",
       " 'A picture of totem pole',\n",
       " 'A picture of tow truck',\n",
       " 'A picture of toyshop',\n",
       " 'A picture of tractor',\n",
       " 'A picture of trailer truck',\n",
       " 'A picture of tray',\n",
       " 'A picture of trench coat',\n",
       " 'A picture of tricycle',\n",
       " 'A picture of trimaran',\n",
       " 'A picture of tripod',\n",
       " 'A picture of triumphal arch',\n",
       " 'A picture of trolleybus',\n",
       " 'A picture of trombone',\n",
       " 'A picture of tub',\n",
       " 'A picture of turnstile',\n",
       " 'A picture of typewriter keyboard',\n",
       " 'A picture of umbrella',\n",
       " 'A picture of unicycle',\n",
       " 'A picture of upright',\n",
       " 'A picture of vacuum',\n",
       " 'A picture of vase',\n",
       " 'A picture of vault',\n",
       " 'A picture of velvet',\n",
       " 'A picture of vending machine',\n",
       " 'A picture of vestment',\n",
       " 'A picture of viaduct',\n",
       " 'A picture of violin',\n",
       " 'A picture of volleyball',\n",
       " 'A picture of waffle iron',\n",
       " 'A picture of wall clock',\n",
       " 'A picture of wallet',\n",
       " 'A picture of wardrobe',\n",
       " 'A picture of warplane',\n",
       " 'A picture of washbasin',\n",
       " 'A picture of washer',\n",
       " 'A picture of water bottle',\n",
       " 'A picture of water jug',\n",
       " 'A picture of water tower',\n",
       " 'A picture of whiskey jug',\n",
       " 'A picture of whistle',\n",
       " 'A picture of wig',\n",
       " 'A picture of window screen',\n",
       " 'A picture of window shade',\n",
       " 'A picture of windsor tie',\n",
       " 'A picture of wine bottle',\n",
       " 'A picture of wing',\n",
       " 'A picture of wok',\n",
       " 'A picture of wooden spoon',\n",
       " 'A picture of wool',\n",
       " 'A picture of worm fence',\n",
       " 'A picture of wreck',\n",
       " 'A picture of yawl',\n",
       " 'A picture of yurt',\n",
       " 'A picture of web site',\n",
       " 'A picture of comic book',\n",
       " 'A picture of crossword puzzle',\n",
       " 'A picture of street sign',\n",
       " 'A picture of traffic light',\n",
       " 'A picture of book jacket',\n",
       " 'A picture of menu',\n",
       " 'A picture of plate',\n",
       " 'A picture of guacamole',\n",
       " 'A picture of consomme',\n",
       " 'A picture of hot pot',\n",
       " 'A picture of trifle',\n",
       " 'A picture of ice cream',\n",
       " 'A picture of ice lolly',\n",
       " 'A picture of french loaf',\n",
       " 'A picture of bagel',\n",
       " 'A picture of pretzel',\n",
       " 'A picture of cheeseburger',\n",
       " 'A picture of hotdog',\n",
       " 'A picture of mashed potato',\n",
       " 'A picture of head cabbage',\n",
       " 'A picture of broccoli',\n",
       " 'A picture of cauliflower',\n",
       " 'A picture of zucchini',\n",
       " 'A picture of spaghetti squash',\n",
       " 'A picture of acorn squash',\n",
       " 'A picture of butternut squash',\n",
       " 'A picture of cucumber',\n",
       " 'A picture of artichoke',\n",
       " 'A picture of bell pepper',\n",
       " 'A picture of cardoon',\n",
       " 'A picture of mushroom',\n",
       " 'A picture of granny smith',\n",
       " 'A picture of strawberry',\n",
       " 'A picture of orange',\n",
       " 'A picture of lemon',\n",
       " 'A picture of fig',\n",
       " 'A picture of pineapple',\n",
       " 'A picture of banana',\n",
       " 'A picture of jackfruit',\n",
       " 'A picture of custard apple',\n",
       " 'A picture of pomegranate',\n",
       " 'A picture of hay',\n",
       " 'A picture of carbonara',\n",
       " 'A picture of chocolate sauce',\n",
       " 'A picture of dough',\n",
       " 'A picture of meat loaf',\n",
       " 'A picture of pizza',\n",
       " 'A picture of potpie',\n",
       " 'A picture of burrito',\n",
       " 'A picture of red wine',\n",
       " 'A picture of espresso',\n",
       " 'A picture of cup',\n",
       " 'A picture of eggnog',\n",
       " 'A picture of alp',\n",
       " 'A picture of bubble',\n",
       " 'A picture of cliff',\n",
       " 'A picture of coral reef',\n",
       " 'A picture of geyser',\n",
       " 'A picture of lakeside',\n",
       " 'A picture of promontory',\n",
       " 'A picture of sandbar',\n",
       " 'A picture of seashore',\n",
       " 'A picture of valley',\n",
       " 'A picture of volcano',\n",
       " 'A picture of ballplayer',\n",
       " 'A picture of groom',\n",
       " 'A picture of scuba diver',\n",
       " 'A picture of rapeseed',\n",
       " 'A picture of daisy',\n",
       " \"A picture of yellow lady's slipper\",\n",
       " 'A picture of corn',\n",
       " 'A picture of acorn',\n",
       " 'A picture of hip',\n",
       " 'A picture of buckeye',\n",
       " 'A picture of coral fungus',\n",
       " 'A picture of agaric',\n",
       " 'A picture of gyromitra',\n",
       " 'A picture of stinkhorn',\n",
       " 'A picture of earthstar',\n",
       " 'A picture of hen-of-the-woods',\n",
       " 'A picture of bolete',\n",
       " 'A picture of ear',\n",
       " 'A picture of toilet tissue']"
      ]
     },
     "execution_count": 4,
     "metadata": {},
     "output_type": "execute_result"
    }
   ],
   "source": [
    "cls_prompt"
   ]
  },
  {
   "cell_type": "code",
   "execution_count": 5,
   "metadata": {
    "ExecuteTime": {
     "end_time": "2023-07-27T12:57:51.516567500Z",
     "start_time": "2023-07-27T12:57:51.378936400Z"
    },
    "collapsed": false
   },
   "outputs": [],
   "source": [
    "def get_acc(gt, preds = None):\n",
    "    if preds is not None:\n",
    "        return ((preds.argmax(1)==gt).sum()/len(preds)).cpu().numpy()\n",
    "    return ((preds.argmax(1)==gt).sum()/len(preds)).cpu().numpy()\n",
    "\n",
    "\n",
    "def get_test_acc(model, loader, device='cuda'):\n",
    "    eval_acc = []\n",
    "    for batch in tqdm(loader, leave=False):\n",
    "        ims, labels = batch\n",
    "        ims, labels = ims.to(device), labels.to(device)\n",
    "\n",
    "        image_features = model.extract_features( {\"image\": ims}, mode=\"image\").image_embeds_proj[:, 0]\n",
    "\n",
    "        sims = (image_features @ text_features.t()) / model.temp\n",
    "        preds = torch.nn.Softmax(dim=1)(sims)\n",
    "\n",
    "        val_acc = get_acc(labels.view(-1,), preds)\n",
    "        eval_acc.append(val_acc)\n",
    "\n",
    "    return np.mean(eval_acc)"
   ]
  },
  {
   "cell_type": "code",
   "execution_count": 6,
   "metadata": {
    "ExecuteTime": {
     "end_time": "2023-07-27T12:58:03.441495200Z",
     "start_time": "2023-07-27T12:57:51.396888200Z"
    },
    "collapsed": false
   },
   "outputs": [],
   "source": [
    "model = define_model(device)\n",
    "transform = get_transform(device)"
   ]
  },
  {
   "cell_type": "code",
   "execution_count": 7,
   "metadata": {
    "ExecuteTime": {
     "end_time": "2023-07-27T12:58:08.653987700Z",
     "start_time": "2023-07-27T12:58:03.443489700Z"
    },
    "collapsed": false
   },
   "outputs": [],
   "source": [
    "text_features = model.extract_features({\"text_input\": cls_prompt}, mode=\"text\").text_embeds_proj[:, 0]"
   ]
  },
  {
   "cell_type": "code",
   "execution_count": 8,
   "metadata": {
    "ExecuteTime": {
     "end_time": "2023-07-27T13:19:02.692643100Z",
     "start_time": "2023-07-27T12:58:08.657976600Z"
    },
    "collapsed": false
   },
   "outputs": [
    {
     "data": {
      "application/vnd.jupyter.widget-view+json": {
       "model_id": "d6eb04c161f2451295f75477f47bc6f4",
       "version_major": 2,
       "version_minor": 0
      },
      "text/plain": [
       "  0%|          | 0/5 [00:00<?, ?it/s]"
      ]
     },
     "metadata": {},
     "output_type": "display_data"
    },
    {
     "data": {
      "application/vnd.jupyter.widget-view+json": {
       "model_id": "2c29cf7fd762491daf4e0a712e08766a",
       "version_major": 2,
       "version_minor": 0
      },
      "text/plain": [
       "  0%|          | 0/196 [00:00<?, ?it/s]"
      ]
     },
     "metadata": {},
     "output_type": "display_data"
    },
    {
     "data": {
      "application/vnd.jupyter.widget-view+json": {
       "model_id": "db2a2a35d6ed463a9c96f6c48cc5cddf",
       "version_major": 2,
       "version_minor": 0
      },
      "text/plain": [
       "  0%|          | 0/196 [00:00<?, ?it/s]"
      ]
     },
     "metadata": {},
     "output_type": "display_data"
    },
    {
     "data": {
      "application/vnd.jupyter.widget-view+json": {
       "model_id": "9eee71a224064956b0301c2fb7e4a09e",
       "version_major": 2,
       "version_minor": 0
      },
      "text/plain": [
       "  0%|          | 0/196 [00:00<?, ?it/s]"
      ]
     },
     "metadata": {},
     "output_type": "display_data"
    },
    {
     "data": {
      "application/vnd.jupyter.widget-view+json": {
       "model_id": "4d87a728a98b457e94f434d2eeb847af",
       "version_major": 2,
       "version_minor": 0
      },
      "text/plain": [
       "  0%|          | 0/196 [00:00<?, ?it/s]"
      ]
     },
     "metadata": {},
     "output_type": "display_data"
    },
    {
     "data": {
      "application/vnd.jupyter.widget-view+json": {
       "model_id": "49e4dcc477394b0f9d10e7c9b436bd76",
       "version_major": 2,
       "version_minor": 0
      },
      "text/plain": [
       "  0%|          | 0/196 [00:00<?, ?it/s]"
      ]
     },
     "metadata": {},
     "output_type": "display_data"
    }
   ],
   "source": [
    "gaussian_noise_acc = []\n",
    "for sev in tqdm([1, 2, 3, 4, 5]):\n",
    "    loader = imagenet_c_dataloader(corruption_name='gaussian_noise', severity=sev, batch_size=256, transform=transform)\n",
    "    gaussian_noise_acc.append(get_test_acc(model, loader, device))"
   ]
  },
  {
   "cell_type": "code",
   "execution_count": 9,
   "metadata": {
    "ExecuteTime": {
     "end_time": "2023-07-27T13:19:02.726552800Z",
     "start_time": "2023-07-27T13:19:02.694637900Z"
    },
    "collapsed": false
   },
   "outputs": [
    {
     "data": {
      "text/plain": [
       "[0.45566803, 0.41914064, 0.3546875, 0.26296237, 0.14225924]"
      ]
     },
     "execution_count": 9,
     "metadata": {},
     "output_type": "execute_result"
    }
   ],
   "source": [
    "gaussian_noise_acc"
   ]
  },
  {
   "cell_type": "code",
   "execution_count": 10,
   "metadata": {
    "ExecuteTime": {
     "end_time": "2023-07-27T13:44:37.314203400Z",
     "start_time": "2023-07-27T13:19:02.713587200Z"
    },
    "collapsed": false
   },
   "outputs": [
    {
     "data": {
      "application/vnd.jupyter.widget-view+json": {
       "model_id": "f2fc065c0aff49aa9386b6314d340e33",
       "version_major": 2,
       "version_minor": 0
      },
      "text/plain": [
       "  0%|          | 0/5 [00:00<?, ?it/s]"
      ]
     },
     "metadata": {},
     "output_type": "display_data"
    },
    {
     "data": {
      "application/vnd.jupyter.widget-view+json": {
       "model_id": "939958f58d814c2a9a658ad5a8d72e3f",
       "version_major": 2,
       "version_minor": 0
      },
      "text/plain": [
       "  0%|          | 0/196 [00:00<?, ?it/s]"
      ]
     },
     "metadata": {},
     "output_type": "display_data"
    },
    {
     "data": {
      "application/vnd.jupyter.widget-view+json": {
       "model_id": "c5bc6dca365941898b5fbc30ef05d360",
       "version_major": 2,
       "version_minor": 0
      },
      "text/plain": [
       "  0%|          | 0/196 [00:00<?, ?it/s]"
      ]
     },
     "metadata": {},
     "output_type": "display_data"
    },
    {
     "data": {
      "application/vnd.jupyter.widget-view+json": {
       "model_id": "0ef0a0a9f96a45c799bb9d1f158a1b51",
       "version_major": 2,
       "version_minor": 0
      },
      "text/plain": [
       "  0%|          | 0/196 [00:00<?, ?it/s]"
      ]
     },
     "metadata": {},
     "output_type": "display_data"
    },
    {
     "data": {
      "application/vnd.jupyter.widget-view+json": {
       "model_id": "9c3bbe096ad94ad3a6db8867f40665e2",
       "version_major": 2,
       "version_minor": 0
      },
      "text/plain": [
       "  0%|          | 0/196 [00:00<?, ?it/s]"
      ]
     },
     "metadata": {},
     "output_type": "display_data"
    },
    {
     "data": {
      "application/vnd.jupyter.widget-view+json": {
       "model_id": "78720193c2b14e0f83a2040fe0ff82f5",
       "version_major": 2,
       "version_minor": 0
      },
      "text/plain": [
       "  0%|          | 0/196 [00:00<?, ?it/s]"
      ]
     },
     "metadata": {},
     "output_type": "display_data"
    }
   ],
   "source": [
    "impulse_noise_acc = []\n",
    "for sev in tqdm([1, 2, 3, 4, 5]):\n",
    "    loader = imagenet_c_dataloader(corruption_name='impulse_noise', severity=sev, batch_size=256, transform=transform)\n",
    "    impulse_noise_acc.append(get_test_acc(model, loader, device))"
   ]
  },
  {
   "cell_type": "code",
   "execution_count": 18,
   "metadata": {
    "ExecuteTime": {
     "end_time": "2023-07-27T14:43:53.274289800Z",
     "start_time": "2023-07-27T14:43:53.237389Z"
    },
    "collapsed": false
   },
   "outputs": [
    {
     "data": {
      "text/plain": [
       "[0.42414305, 0.3770767, 0.3341797, 0.23130979, 0.12862723]"
      ]
     },
     "execution_count": 18,
     "metadata": {},
     "output_type": "execute_result"
    }
   ],
   "source": [
    "impulse_noise_acc"
   ]
  },
  {
   "cell_type": "code",
   "execution_count": 12,
   "metadata": {
    "ExecuteTime": {
     "end_time": "2023-07-27T14:11:14.573136900Z",
     "start_time": "2023-07-27T13:44:37.334145Z"
    },
    "collapsed": false
   },
   "outputs": [
    {
     "data": {
      "application/vnd.jupyter.widget-view+json": {
       "model_id": "edc736d2ea9f4af5846aac332173a477",
       "version_major": 2,
       "version_minor": 0
      },
      "text/plain": [
       "  0%|          | 0/5 [00:00<?, ?it/s]"
      ]
     },
     "metadata": {},
     "output_type": "display_data"
    },
    {
     "data": {
      "application/vnd.jupyter.widget-view+json": {
       "model_id": "f8fe5fe0df4746909026433dac65f147",
       "version_major": 2,
       "version_minor": 0
      },
      "text/plain": [
       "  0%|          | 0/196 [00:00<?, ?it/s]"
      ]
     },
     "metadata": {},
     "output_type": "display_data"
    },
    {
     "data": {
      "application/vnd.jupyter.widget-view+json": {
       "model_id": "f22d24c880334841964373a059144a7c",
       "version_major": 2,
       "version_minor": 0
      },
      "text/plain": [
       "  0%|          | 0/196 [00:00<?, ?it/s]"
      ]
     },
     "metadata": {},
     "output_type": "display_data"
    },
    {
     "data": {
      "application/vnd.jupyter.widget-view+json": {
       "model_id": "fbb332f3b63341bfa43a4cfb68db9859",
       "version_major": 2,
       "version_minor": 0
      },
      "text/plain": [
       "  0%|          | 0/196 [00:00<?, ?it/s]"
      ]
     },
     "metadata": {},
     "output_type": "display_data"
    },
    {
     "data": {
      "application/vnd.jupyter.widget-view+json": {
       "model_id": "621aa4491a6345a197e0c0977efa5b27",
       "version_major": 2,
       "version_minor": 0
      },
      "text/plain": [
       "  0%|          | 0/196 [00:00<?, ?it/s]"
      ]
     },
     "metadata": {},
     "output_type": "display_data"
    },
    {
     "data": {
      "application/vnd.jupyter.widget-view+json": {
       "model_id": "40459f8b3dd040a5ae14160c57c5743f",
       "version_major": 2,
       "version_minor": 0
      },
      "text/plain": [
       "  0%|          | 0/196 [00:00<?, ?it/s]"
      ]
     },
     "metadata": {},
     "output_type": "display_data"
    }
   ],
   "source": [
    "shot_noise_acc = []\n",
    "for sev in tqdm([1, 2, 3, 4, 5]):\n",
    "    loader = imagenet_c_dataloader(corruption_name='shot_noise', severity=sev, batch_size=256, transform=transform)\n",
    "    shot_noise_acc.append(get_test_acc(model, loader, device))"
   ]
  },
  {
   "cell_type": "code",
   "execution_count": 13,
   "metadata": {
    "ExecuteTime": {
     "end_time": "2023-07-27T14:11:14.610040100Z",
     "start_time": "2023-07-27T14:11:14.575132200Z"
    },
    "collapsed": false
   },
   "outputs": [
    {
     "data": {
      "text/plain": [
       "[0.45365512, 0.40867347, 0.34552374, 0.23026147, 0.1415617]"
      ]
     },
     "execution_count": 13,
     "metadata": {},
     "output_type": "execute_result"
    }
   ],
   "source": [
    "shot_noise_acc"
   ]
  },
  {
   "cell_type": "code",
   "execution_count": 14,
   "metadata": {
    "ExecuteTime": {
     "end_time": "2023-07-27T14:37:38.044936300Z",
     "start_time": "2023-07-27T14:11:14.600065900Z"
    },
    "collapsed": false
   },
   "outputs": [
    {
     "data": {
      "application/vnd.jupyter.widget-view+json": {
       "model_id": "0e76be54e5ab4a7cbdfabb87299d5973",
       "version_major": 2,
       "version_minor": 0
      },
      "text/plain": [
       "  0%|          | 0/5 [00:00<?, ?it/s]"
      ]
     },
     "metadata": {},
     "output_type": "display_data"
    },
    {
     "data": {
      "application/vnd.jupyter.widget-view+json": {
       "model_id": "4c59c737750c47f3ae1a69cd0422e91f",
       "version_major": 2,
       "version_minor": 0
      },
      "text/plain": [
       "  0%|          | 0/196 [00:00<?, ?it/s]"
      ]
     },
     "metadata": {},
     "output_type": "display_data"
    },
    {
     "data": {
      "application/vnd.jupyter.widget-view+json": {
       "model_id": "56970a01260e4778908ea79e187dec1a",
       "version_major": 2,
       "version_minor": 0
      },
      "text/plain": [
       "  0%|          | 0/196 [00:00<?, ?it/s]"
      ]
     },
     "metadata": {},
     "output_type": "display_data"
    },
    {
     "data": {
      "application/vnd.jupyter.widget-view+json": {
       "model_id": "203bbf64d8ea41a7bb6ad009f6f5c72a",
       "version_major": 2,
       "version_minor": 0
      },
      "text/plain": [
       "  0%|          | 0/196 [00:00<?, ?it/s]"
      ]
     },
     "metadata": {},
     "output_type": "display_data"
    },
    {
     "data": {
      "application/vnd.jupyter.widget-view+json": {
       "model_id": "69f2c554b5d24debac32fd11b17cdfc8",
       "version_major": 2,
       "version_minor": 0
      },
      "text/plain": [
       "  0%|          | 0/196 [00:00<?, ?it/s]"
      ]
     },
     "metadata": {},
     "output_type": "display_data"
    },
    {
     "data": {
      "application/vnd.jupyter.widget-view+json": {
       "model_id": "e0358dd4394d4c468d5c1001b048821e",
       "version_major": 2,
       "version_minor": 0
      },
      "text/plain": [
       "  0%|          | 0/196 [00:00<?, ?it/s]"
      ]
     },
     "metadata": {},
     "output_type": "display_data"
    }
   ],
   "source": [
    "speckle_noise_acc = []\n",
    "for sev in tqdm([1, 2, 3, 4, 5]):\n",
    "    loader = imagenet_c_dataloader(corruption_name='speckle_noise', severity=sev, batch_size=256, transform=transform)\n",
    "    speckle_noise_acc.append(get_test_acc(model, loader, device))"
   ]
  },
  {
   "cell_type": "code",
   "execution_count": 15,
   "metadata": {
    "ExecuteTime": {
     "end_time": "2023-07-27T14:37:38.080840800Z",
     "start_time": "2023-07-27T14:37:38.045934200Z"
    },
    "collapsed": false
   },
   "outputs": [
    {
     "data": {
      "text/plain": [
       "[0.46370775, 0.44168526, 0.3695472, 0.31965482, 0.25065768]"
      ]
     },
     "execution_count": 15,
     "metadata": {},
     "output_type": "execute_result"
    }
   ],
   "source": [
    "speckle_noise_acc"
   ]
  },
  {
   "cell_type": "code",
   "execution_count": 16,
   "metadata": {
    "ExecuteTime": {
     "end_time": "2023-07-27T14:42:50.145050800Z",
     "start_time": "2023-07-27T14:37:38.064882900Z"
    },
    "collapsed": false
   },
   "outputs": [
    {
     "data": {
      "application/vnd.jupyter.widget-view+json": {
       "model_id": "ce7d9d51449f42178b53398325eac440",
       "version_major": 2,
       "version_minor": 0
      },
      "text/plain": [
       "  0%|          | 0/196 [00:00<?, ?it/s]"
      ]
     },
     "metadata": {},
     "output_type": "display_data"
    }
   ],
   "source": [
    "loader = imagenet_dataloader(batch_size=256, transform=transform)\n",
    "clean_acc = get_test_acc(model, loader, device)"
   ]
  },
  {
   "cell_type": "code",
   "execution_count": 17,
   "metadata": {
    "ExecuteTime": {
     "end_time": "2023-07-27T14:42:50.171981Z",
     "start_time": "2023-07-27T14:42:50.146048600Z"
    },
    "collapsed": false
   },
   "outputs": [
    {
     "data": {
      "text/plain": [
       "0.4355668"
      ]
     },
     "execution_count": 17,
     "metadata": {},
     "output_type": "execute_result"
    }
   ],
   "source": [
    "clean_acc"
   ]
  }
 ],
 "metadata": {
  "kernelspec": {
   "display_name": "Python 3.9.16 ('brn')",
   "language": "python",
   "name": "python3"
  },
  "language_info": {
   "codemirror_mode": {
    "name": "ipython",
    "version": 2
   },
   "file_extension": ".py",
   "mimetype": "text/x-python",
   "name": "python",
   "nbconvert_exporter": "python",
   "pygments_lexer": "ipython2",
   "version": "3.9.16"
  },
  "vscode": {
   "interpreter": {
    "hash": "c5b4607d21dcc400ead18a1c2ca0189f0fcf8d976d586df05f937ecd8ea5ac01"
   }
  }
 },
 "nbformat": 4,
 "nbformat_minor": 0
}
