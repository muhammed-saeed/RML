{
 "cells": [
  {
   "cell_type": "code",
   "execution_count": 1,
   "id": "initial_id",
   "metadata": {
    "collapsed": true,
    "ExecuteTime": {
     "end_time": "2023-07-30T03:33:03.675200100Z",
     "start_time": "2023-07-30T03:32:59.701823Z"
    }
   },
   "outputs": [
    {
     "name": "stderr",
     "output_type": "stream",
     "text": [
      "C:\\Users\\j2010\\PycharmProjects\\CADDSeminar_2023\\venv\\lib\\site-packages\\torchvision\\transforms\\functional_tensor.py:5: UserWarning: The torchvision.transforms.functional_tensor module is deprecated in 0.15 and will be **removed in 0.17**. Please don't rely on it. You probably just need to use APIs in torchvision.transforms.functional or in torchvision.transforms.v2.functional.\n",
      "  warnings.warn(\n",
      "C:\\Users\\j2010\\PycharmProjects\\CADDSeminar_2023\\venv\\lib\\site-packages\\torchvision\\transforms\\_functional_video.py:6: UserWarning: The 'torchvision.transforms._functional_video' module is deprecated since 0.12 and will be removed in the future. Please use the 'torchvision.transforms.functional' module instead.\n",
      "  warnings.warn(\n",
      "C:\\Users\\j2010\\PycharmProjects\\CADDSeminar_2023\\venv\\lib\\site-packages\\torchvision\\transforms\\_transforms_video.py:22: UserWarning: The 'torchvision.transforms._transforms_video' module is deprecated since 0.12 and will be removed in the future. Please use the 'torchvision.transforms' module instead.\n",
      "  warnings.warn(\n"
     ]
    }
   ],
   "source": [
    "import torch\n",
    "\n",
    "from src.dataloaders import caltech_c_dataloader, caltech_dataloader\n",
    "from tqdm.notebook import tqdm\n",
    "from src.imagebind import get_image_features, define_model, get_transform\n",
    "from src.knn_clf_score import extract_ds_features, knn_classifier"
   ]
  },
  {
   "cell_type": "code",
   "execution_count": 2,
   "outputs": [
    {
     "name": "stdout",
     "output_type": "stream",
     "text": [
      "cuda\n"
     ]
    }
   ],
   "source": [
    "device = \"cuda\" if torch.cuda.is_available() else \"cpu\"\n",
    "print(device)"
   ],
   "metadata": {
    "collapsed": false,
    "ExecuteTime": {
     "end_time": "2023-07-30T03:33:03.755984100Z",
     "start_time": "2023-07-30T03:33:03.675200100Z"
    }
   },
   "id": "2142564ca8beda54"
  },
  {
   "cell_type": "code",
   "execution_count": 3,
   "outputs": [],
   "source": [
    "model = define_model(device)\n",
    "transform = get_transform()"
   ],
   "metadata": {
    "collapsed": false,
    "ExecuteTime": {
     "end_time": "2023-07-30T03:33:23.378982700Z",
     "start_time": "2023-07-30T03:33:03.742022200Z"
    }
   },
   "id": "820ef1e1d7aff518"
  },
  {
   "cell_type": "code",
   "execution_count": 4,
   "outputs": [
    {
     "data": {
      "text/plain": "  0%|          | 0/5 [00:00<?, ?it/s]",
      "application/vnd.jupyter.widget-view+json": {
       "version_major": 2,
       "version_minor": 0,
       "model_id": "d97464ca0917489e83b9bf678fc47b2c"
      }
     },
     "metadata": {},
     "output_type": "display_data"
    },
    {
     "data": {
      "text/plain": "  0%|          | 0/82 [00:00<?, ?it/s]",
      "application/vnd.jupyter.widget-view+json": {
       "version_major": 2,
       "version_minor": 0,
       "model_id": "17cb78e354ef455ca7b3f72d66e7a56a"
      }
     },
     "metadata": {},
     "output_type": "display_data"
    },
    {
     "data": {
      "text/plain": "  0%|          | 0/101 [00:00<?, ?it/s]",
      "application/vnd.jupyter.widget-view+json": {
       "version_major": 2,
       "version_minor": 0,
       "model_id": "da9d50859c2a41068cd29b38ef28bb4d"
      }
     },
     "metadata": {},
     "output_type": "display_data"
    },
    {
     "name": "stderr",
     "output_type": "stream",
     "text": [
      "C:\\Users\\j2010\\PycharmProjects\\HLCV23\\src\\knn_clf_score.py:66: UserWarning: Implicit dimension choice for softmax has been deprecated. Change the call to include dim=X as an argument.\n",
      "  distances_transform = F.softmax(distances)\n"
     ]
    },
    {
     "data": {
      "text/plain": "  0%|          | 0/82 [00:00<?, ?it/s]",
      "application/vnd.jupyter.widget-view+json": {
       "version_major": 2,
       "version_minor": 0,
       "model_id": "a9dc622475b34db3984437b2408c80ac"
      }
     },
     "metadata": {},
     "output_type": "display_data"
    },
    {
     "data": {
      "text/plain": "  0%|          | 0/101 [00:00<?, ?it/s]",
      "application/vnd.jupyter.widget-view+json": {
       "version_major": 2,
       "version_minor": 0,
       "model_id": "30a3fe40702c4cbfa4b8b6907137f98d"
      }
     },
     "metadata": {},
     "output_type": "display_data"
    },
    {
     "data": {
      "text/plain": "  0%|          | 0/82 [00:00<?, ?it/s]",
      "application/vnd.jupyter.widget-view+json": {
       "version_major": 2,
       "version_minor": 0,
       "model_id": "3e987d40ba094d6797601a408585c81e"
      }
     },
     "metadata": {},
     "output_type": "display_data"
    },
    {
     "data": {
      "text/plain": "  0%|          | 0/101 [00:00<?, ?it/s]",
      "application/vnd.jupyter.widget-view+json": {
       "version_major": 2,
       "version_minor": 0,
       "model_id": "8cdf8b6fbb5c4e9cbf5b4daa048f7b7d"
      }
     },
     "metadata": {},
     "output_type": "display_data"
    },
    {
     "data": {
      "text/plain": "  0%|          | 0/82 [00:00<?, ?it/s]",
      "application/vnd.jupyter.widget-view+json": {
       "version_major": 2,
       "version_minor": 0,
       "model_id": "e7debe2e638945cc9933ccf0c6bb531a"
      }
     },
     "metadata": {},
     "output_type": "display_data"
    },
    {
     "data": {
      "text/plain": "  0%|          | 0/101 [00:00<?, ?it/s]",
      "application/vnd.jupyter.widget-view+json": {
       "version_major": 2,
       "version_minor": 0,
       "model_id": "b187364e3cff4db1aec3f8938c830953"
      }
     },
     "metadata": {},
     "output_type": "display_data"
    },
    {
     "data": {
      "text/plain": "  0%|          | 0/82 [00:00<?, ?it/s]",
      "application/vnd.jupyter.widget-view+json": {
       "version_major": 2,
       "version_minor": 0,
       "model_id": "4c571f1085444837815e04c5b3008358"
      }
     },
     "metadata": {},
     "output_type": "display_data"
    },
    {
     "data": {
      "text/plain": "  0%|          | 0/101 [00:00<?, ?it/s]",
      "application/vnd.jupyter.widget-view+json": {
       "version_major": 2,
       "version_minor": 0,
       "model_id": "723c6b89a4644222b4bc1f43f1f44f9a"
      }
     },
     "metadata": {},
     "output_type": "display_data"
    }
   ],
   "source": [
    "gaussian_noise_acc = []\n",
    "for sev in tqdm([1, 2, 3, 4, 5]):\n",
    "    loader = caltech_c_dataloader(corruption_name='gaussian_noise', severity=sev, batch_size=64, transform=transform)\n",
    "    features, labels = extract_ds_features(model, loader, get_image_features, device)\n",
    "    gaussian_noise_acc.append([knn_classifier(features, labels, features, labels, num_classes=101)])"
   ],
   "metadata": {
    "collapsed": false,
    "ExecuteTime": {
     "end_time": "2023-07-30T03:53:58.854077800Z",
     "start_time": "2023-07-30T03:33:23.386963Z"
    }
   },
   "id": "25563222851179f5"
  },
  {
   "cell_type": "code",
   "execution_count": 5,
   "outputs": [
    {
     "data": {
      "text/plain": "[[(93.6510962821735, 98.6272640610105)],\n [(91.97330791229743, 97.8646329837941)],\n [(87.91229742612012, 95.27168732125834)],\n [(80.24785510009534, 89.91420400381315)],\n [(63.355576739752145, 77.27359389895138)]]"
     },
     "execution_count": 5,
     "metadata": {},
     "output_type": "execute_result"
    }
   ],
   "source": [
    "gaussian_noise_acc"
   ],
   "metadata": {
    "collapsed": false,
    "ExecuteTime": {
     "end_time": "2023-07-30T03:53:58.876021500Z",
     "start_time": "2023-07-30T03:53:58.846099900Z"
    }
   },
   "id": "340cfc86057144d5"
  },
  {
   "cell_type": "code",
   "execution_count": 6,
   "outputs": [
    {
     "data": {
      "text/plain": "  0%|          | 0/5 [00:00<?, ?it/s]",
      "application/vnd.jupyter.widget-view+json": {
       "version_major": 2,
       "version_minor": 0,
       "model_id": "642566921d0e4a3b85a366903e882a02"
      }
     },
     "metadata": {},
     "output_type": "display_data"
    },
    {
     "data": {
      "text/plain": "  0%|          | 0/82 [00:00<?, ?it/s]",
      "application/vnd.jupyter.widget-view+json": {
       "version_major": 2,
       "version_minor": 0,
       "model_id": "6c0fbbe054d14dba8e04d0a64b02ff93"
      }
     },
     "metadata": {},
     "output_type": "display_data"
    },
    {
     "data": {
      "text/plain": "  0%|          | 0/101 [00:00<?, ?it/s]",
      "application/vnd.jupyter.widget-view+json": {
       "version_major": 2,
       "version_minor": 0,
       "model_id": "1557257260d84679a6a5d161ac45e282"
      }
     },
     "metadata": {},
     "output_type": "display_data"
    },
    {
     "data": {
      "text/plain": "  0%|          | 0/82 [00:00<?, ?it/s]",
      "application/vnd.jupyter.widget-view+json": {
       "version_major": 2,
       "version_minor": 0,
       "model_id": "c4e9b845e5624e7d83250ca110509f5b"
      }
     },
     "metadata": {},
     "output_type": "display_data"
    },
    {
     "data": {
      "text/plain": "  0%|          | 0/101 [00:00<?, ?it/s]",
      "application/vnd.jupyter.widget-view+json": {
       "version_major": 2,
       "version_minor": 0,
       "model_id": "97e4e25d042241838b7d3ba3367f66f3"
      }
     },
     "metadata": {},
     "output_type": "display_data"
    },
    {
     "data": {
      "text/plain": "  0%|          | 0/82 [00:00<?, ?it/s]",
      "application/vnd.jupyter.widget-view+json": {
       "version_major": 2,
       "version_minor": 0,
       "model_id": "809ee77931a44d70b9ab480594fa84e7"
      }
     },
     "metadata": {},
     "output_type": "display_data"
    },
    {
     "data": {
      "text/plain": "  0%|          | 0/101 [00:00<?, ?it/s]",
      "application/vnd.jupyter.widget-view+json": {
       "version_major": 2,
       "version_minor": 0,
       "model_id": "08cbf723a82f41729913321529174f02"
      }
     },
     "metadata": {},
     "output_type": "display_data"
    },
    {
     "data": {
      "text/plain": "  0%|          | 0/82 [00:00<?, ?it/s]",
      "application/vnd.jupyter.widget-view+json": {
       "version_major": 2,
       "version_minor": 0,
       "model_id": "92ab9351f7814a8da9acb27e5e1e2648"
      }
     },
     "metadata": {},
     "output_type": "display_data"
    },
    {
     "data": {
      "text/plain": "  0%|          | 0/101 [00:00<?, ?it/s]",
      "application/vnd.jupyter.widget-view+json": {
       "version_major": 2,
       "version_minor": 0,
       "model_id": "8111b63b0e9849eaa106adda9227e7bf"
      }
     },
     "metadata": {},
     "output_type": "display_data"
    },
    {
     "data": {
      "text/plain": "  0%|          | 0/82 [00:00<?, ?it/s]",
      "application/vnd.jupyter.widget-view+json": {
       "version_major": 2,
       "version_minor": 0,
       "model_id": "cf05eac1e0414027a2e3c6a0351e2917"
      }
     },
     "metadata": {},
     "output_type": "display_data"
    },
    {
     "data": {
      "text/plain": "  0%|          | 0/101 [00:00<?, ?it/s]",
      "application/vnd.jupyter.widget-view+json": {
       "version_major": 2,
       "version_minor": 0,
       "model_id": "2fd1116d6d804f9fb9f91196734bf466"
      }
     },
     "metadata": {},
     "output_type": "display_data"
    }
   ],
   "source": [
    "impulse_noise_acc = []\n",
    "for sev in tqdm([1, 2, 3, 4, 5]):\n",
    "    loader = caltech_c_dataloader(corruption_name='impulse_noise', severity=sev, batch_size=64, transform=transform)\n",
    "    features, labels = extract_ds_features(model, loader, get_image_features, device)\n",
    "    impulse_noise_acc.append([knn_classifier(features, labels, features, labels, num_classes=101)])"
   ],
   "metadata": {
    "collapsed": false,
    "ExecuteTime": {
     "end_time": "2023-07-30T04:13:56.406845700Z",
     "start_time": "2023-07-30T03:53:58.861061100Z"
    }
   },
   "id": "1deff9308799259d"
  },
  {
   "cell_type": "code",
   "execution_count": 7,
   "outputs": [
    {
     "data": {
      "text/plain": "[[(92.65967588179218, 97.78836987607245)],\n [(89.53288846520496, 96.43469971401335)],\n [(87.09246901811248, 95.06196377502383)],\n [(77.99809342230697, 88.92278360343184)],\n [(62.07816968541468, 77.17826501429933)]]"
     },
     "execution_count": 7,
     "metadata": {},
     "output_type": "execute_result"
    }
   ],
   "source": [
    "impulse_noise_acc"
   ],
   "metadata": {
    "collapsed": false,
    "ExecuteTime": {
     "end_time": "2023-07-30T04:13:56.432776100Z",
     "start_time": "2023-07-30T04:13:56.409836600Z"
    }
   },
   "id": "15b0fb553f41a575"
  },
  {
   "cell_type": "code",
   "execution_count": 8,
   "outputs": [
    {
     "data": {
      "text/plain": "  0%|          | 0/5 [00:00<?, ?it/s]",
      "application/vnd.jupyter.widget-view+json": {
       "version_major": 2,
       "version_minor": 0,
       "model_id": "b920b399dfe641e795452acd575a70a3"
      }
     },
     "metadata": {},
     "output_type": "display_data"
    },
    {
     "data": {
      "text/plain": "  0%|          | 0/82 [00:00<?, ?it/s]",
      "application/vnd.jupyter.widget-view+json": {
       "version_major": 2,
       "version_minor": 0,
       "model_id": "d4f6f8e931c6411397ba66ea92de84f6"
      }
     },
     "metadata": {},
     "output_type": "display_data"
    },
    {
     "data": {
      "text/plain": "  0%|          | 0/101 [00:00<?, ?it/s]",
      "application/vnd.jupyter.widget-view+json": {
       "version_major": 2,
       "version_minor": 0,
       "model_id": "65ab2888175e47d4b241f57059e5a07d"
      }
     },
     "metadata": {},
     "output_type": "display_data"
    },
    {
     "data": {
      "text/plain": "  0%|          | 0/82 [00:00<?, ?it/s]",
      "application/vnd.jupyter.widget-view+json": {
       "version_major": 2,
       "version_minor": 0,
       "model_id": "319d03b38184460b9e5253204e9c2b54"
      }
     },
     "metadata": {},
     "output_type": "display_data"
    },
    {
     "data": {
      "text/plain": "  0%|          | 0/101 [00:00<?, ?it/s]",
      "application/vnd.jupyter.widget-view+json": {
       "version_major": 2,
       "version_minor": 0,
       "model_id": "00a281e8786d41868b540a017949c2e6"
      }
     },
     "metadata": {},
     "output_type": "display_data"
    },
    {
     "data": {
      "text/plain": "  0%|          | 0/82 [00:00<?, ?it/s]",
      "application/vnd.jupyter.widget-view+json": {
       "version_major": 2,
       "version_minor": 0,
       "model_id": "ea5ddd8564b949f58fc6db778d58b13a"
      }
     },
     "metadata": {},
     "output_type": "display_data"
    },
    {
     "data": {
      "text/plain": "  0%|          | 0/101 [00:00<?, ?it/s]",
      "application/vnd.jupyter.widget-view+json": {
       "version_major": 2,
       "version_minor": 0,
       "model_id": "4dabdcade0a944d5beea23d6784d9605"
      }
     },
     "metadata": {},
     "output_type": "display_data"
    },
    {
     "data": {
      "text/plain": "  0%|          | 0/82 [00:00<?, ?it/s]",
      "application/vnd.jupyter.widget-view+json": {
       "version_major": 2,
       "version_minor": 0,
       "model_id": "45fd259c117943fba67a7c0dc2099f8b"
      }
     },
     "metadata": {},
     "output_type": "display_data"
    },
    {
     "data": {
      "text/plain": "  0%|          | 0/101 [00:00<?, ?it/s]",
      "application/vnd.jupyter.widget-view+json": {
       "version_major": 2,
       "version_minor": 0,
       "model_id": "2ff9c219be4d4f63ab642f4dd597dea6"
      }
     },
     "metadata": {},
     "output_type": "display_data"
    },
    {
     "data": {
      "text/plain": "  0%|          | 0/82 [00:00<?, ?it/s]",
      "application/vnd.jupyter.widget-view+json": {
       "version_major": 2,
       "version_minor": 0,
       "model_id": "5330b96844a548afb449fc22d7108506"
      }
     },
     "metadata": {},
     "output_type": "display_data"
    },
    {
     "data": {
      "text/plain": "  0%|          | 0/101 [00:00<?, ?it/s]",
      "application/vnd.jupyter.widget-view+json": {
       "version_major": 2,
       "version_minor": 0,
       "model_id": "3185383225eb453fa29bdb433052a34b"
      }
     },
     "metadata": {},
     "output_type": "display_data"
    }
   ],
   "source": [
    "shot_noise_acc = []\n",
    "for sev in tqdm([1, 2, 3, 4, 5]):\n",
    "    loader = caltech_c_dataloader(corruption_name='shot_noise', severity=sev, batch_size=64, transform=transform)\n",
    "    features, labels = extract_ds_features(model, loader, get_image_features, device)\n",
    "    shot_noise_acc.append([knn_classifier(features, labels, features, labels, num_classes=101)])"
   ],
   "metadata": {
    "collapsed": false,
    "ExecuteTime": {
     "end_time": "2023-07-30T04:35:02.259112700Z",
     "start_time": "2023-07-30T04:13:56.424798600Z"
    }
   },
   "id": "a34a89662ef83503"
  },
  {
   "cell_type": "code",
   "execution_count": 9,
   "outputs": [
    {
     "data": {
      "text/plain": "[[(93.80362249761677, 98.37940896091516)],\n [(91.40133460438513, 97.36892278360344)],\n [(86.95900857959961, 94.62345090562441)],\n [(76.12964728312679, 87.35938989513822)],\n [(63.775023832221166, 78.39847473784556)]]"
     },
     "execution_count": 9,
     "metadata": {},
     "output_type": "execute_result"
    }
   ],
   "source": [
    "shot_noise_acc"
   ],
   "metadata": {
    "collapsed": false,
    "ExecuteTime": {
     "end_time": "2023-07-30T04:35:02.279059600Z",
     "start_time": "2023-07-30T04:35:02.255126Z"
    }
   },
   "id": "fd68b607067e9ffe"
  },
  {
   "cell_type": "code",
   "execution_count": 10,
   "outputs": [
    {
     "data": {
      "text/plain": "  0%|          | 0/5 [00:00<?, ?it/s]",
      "application/vnd.jupyter.widget-view+json": {
       "version_major": 2,
       "version_minor": 0,
       "model_id": "02c110d1f46f40419c330189534ec119"
      }
     },
     "metadata": {},
     "output_type": "display_data"
    },
    {
     "data": {
      "text/plain": "  0%|          | 0/82 [00:00<?, ?it/s]",
      "application/vnd.jupyter.widget-view+json": {
       "version_major": 2,
       "version_minor": 0,
       "model_id": "fac6de41545646c3877199face937ebc"
      }
     },
     "metadata": {},
     "output_type": "display_data"
    },
    {
     "data": {
      "text/plain": "  0%|          | 0/101 [00:00<?, ?it/s]",
      "application/vnd.jupyter.widget-view+json": {
       "version_major": 2,
       "version_minor": 0,
       "model_id": "2271a9af383543daa978276b436f5867"
      }
     },
     "metadata": {},
     "output_type": "display_data"
    },
    {
     "data": {
      "text/plain": "  0%|          | 0/82 [00:00<?, ?it/s]",
      "application/vnd.jupyter.widget-view+json": {
       "version_major": 2,
       "version_minor": 0,
       "model_id": "7ea48d63669449c1a6ca1dddb5a3a78f"
      }
     },
     "metadata": {},
     "output_type": "display_data"
    },
    {
     "data": {
      "text/plain": "  0%|          | 0/101 [00:00<?, ?it/s]",
      "application/vnd.jupyter.widget-view+json": {
       "version_major": 2,
       "version_minor": 0,
       "model_id": "1a6bba1034c74edba96c46e77b0ef777"
      }
     },
     "metadata": {},
     "output_type": "display_data"
    },
    {
     "data": {
      "text/plain": "  0%|          | 0/82 [00:00<?, ?it/s]",
      "application/vnd.jupyter.widget-view+json": {
       "version_major": 2,
       "version_minor": 0,
       "model_id": "722a788f507440ffa8914dc1e3b855d9"
      }
     },
     "metadata": {},
     "output_type": "display_data"
    },
    {
     "data": {
      "text/plain": "  0%|          | 0/101 [00:00<?, ?it/s]",
      "application/vnd.jupyter.widget-view+json": {
       "version_major": 2,
       "version_minor": 0,
       "model_id": "1cd7feaa03ef4e0e9023cdf7c4b551b0"
      }
     },
     "metadata": {},
     "output_type": "display_data"
    },
    {
     "data": {
      "text/plain": "  0%|          | 0/82 [00:00<?, ?it/s]",
      "application/vnd.jupyter.widget-view+json": {
       "version_major": 2,
       "version_minor": 0,
       "model_id": "a25355708dc94cbaaa1c47ae9793a161"
      }
     },
     "metadata": {},
     "output_type": "display_data"
    },
    {
     "data": {
      "text/plain": "  0%|          | 0/101 [00:00<?, ?it/s]",
      "application/vnd.jupyter.widget-view+json": {
       "version_major": 2,
       "version_minor": 0,
       "model_id": "19bd6a1a47db44fc85bd49597e3273ae"
      }
     },
     "metadata": {},
     "output_type": "display_data"
    },
    {
     "data": {
      "text/plain": "  0%|          | 0/82 [00:00<?, ?it/s]",
      "application/vnd.jupyter.widget-view+json": {
       "version_major": 2,
       "version_minor": 0,
       "model_id": "823638e6f0b249388b79efa7c850cbf7"
      }
     },
     "metadata": {},
     "output_type": "display_data"
    },
    {
     "data": {
      "text/plain": "  0%|          | 0/101 [00:00<?, ?it/s]",
      "application/vnd.jupyter.widget-view+json": {
       "version_major": 2,
       "version_minor": 0,
       "model_id": "94e2415146fa4d96bceffadade135f21"
      }
     },
     "metadata": {},
     "output_type": "display_data"
    }
   ],
   "source": [
    "speckle_noise_acc = []\n",
    "for sev in tqdm([1, 2, 3, 4, 5]):\n",
    "    loader = caltech_c_dataloader(corruption_name='speckle_noise', severity=sev, batch_size=64, transform=transform)\n",
    "    features, labels = extract_ds_features(model, loader, get_image_features, device)\n",
    "    speckle_noise_acc.append([knn_classifier(features, labels, features, labels, num_classes=101)])"
   ],
   "metadata": {
    "collapsed": false,
    "ExecuteTime": {
     "end_time": "2023-07-30T04:55:37.556185100Z",
     "start_time": "2023-07-30T04:35:02.272078100Z"
    }
   },
   "id": "1983bf8884df3e0a"
  },
  {
   "cell_type": "code",
   "execution_count": 11,
   "outputs": [
    {
     "data": {
      "text/plain": "[[(94.35653002859867, 98.53193517635843)],\n [(93.38417540514776, 98.15061963775024)],\n [(88.2745471877979, 95.5958055290753)],\n [(83.4509056244042, 92.71687321258341)],\n [(76.3584366062917, 87.47378455672069)]]"
     },
     "execution_count": 11,
     "metadata": {},
     "output_type": "execute_result"
    }
   ],
   "source": [
    "speckle_noise_acc"
   ],
   "metadata": {
    "collapsed": false,
    "ExecuteTime": {
     "end_time": "2023-07-30T04:55:37.571144700Z",
     "start_time": "2023-07-30T04:55:37.552195700Z"
    }
   },
   "id": "f24692d8fae8698a"
  },
  {
   "cell_type": "code",
   "execution_count": 12,
   "outputs": [
    {
     "data": {
      "text/plain": "  0%|          | 0/82 [00:00<?, ?it/s]",
      "application/vnd.jupyter.widget-view+json": {
       "version_major": 2,
       "version_minor": 0,
       "model_id": "3a4964f1173a402e9028f64829bb6e55"
      }
     },
     "metadata": {},
     "output_type": "display_data"
    },
    {
     "data": {
      "text/plain": "  0%|          | 0/101 [00:00<?, ?it/s]",
      "application/vnd.jupyter.widget-view+json": {
       "version_major": 2,
       "version_minor": 0,
       "model_id": "a2d80b7508be49aaa2174f6068121082"
      }
     },
     "metadata": {},
     "output_type": "display_data"
    }
   ],
   "source": [
    "loader = caltech_dataloader(batch_size=64, transform=transform)\n",
    "features, labels = extract_ds_features(model, loader, get_image_features, device)\n",
    "clean_top1, clean_top5 = knn_classifier(features, labels, features, labels, num_classes=101)"
   ],
   "metadata": {
    "collapsed": false,
    "ExecuteTime": {
     "end_time": "2023-07-30T04:59:39.017138600Z",
     "start_time": "2023-07-30T04:55:37.567155600Z"
    }
   },
   "id": "d768697bf4a40a85"
  },
  {
   "cell_type": "code",
   "execution_count": 13,
   "outputs": [
    {
     "name": "stdout",
     "output_type": "stream",
     "text": [
      "96.81601525262154 99.33269780743565\n"
     ]
    }
   ],
   "source": [
    "print(clean_top1, clean_top5)"
   ],
   "metadata": {
    "collapsed": false,
    "ExecuteTime": {
     "end_time": "2023-07-30T04:59:39.042072300Z",
     "start_time": "2023-07-30T04:59:39.018136600Z"
    }
   },
   "id": "4fd9188cef09c515"
  },
  {
   "cell_type": "code",
   "execution_count": 14,
   "outputs": [
    {
     "data": {
      "text/plain": "{'gaussian_noise_acc': [[(93.6510962821735, 98.6272640610105)],\n  [(91.97330791229743, 97.8646329837941)],\n  [(87.91229742612012, 95.27168732125834)],\n  [(80.24785510009534, 89.91420400381315)],\n  [(63.355576739752145, 77.27359389895138)]],\n 'impulse_noise_acc': [[(92.65967588179218, 97.78836987607245)],\n  [(89.53288846520496, 96.43469971401335)],\n  [(87.09246901811248, 95.06196377502383)],\n  [(77.99809342230697, 88.92278360343184)],\n  [(62.07816968541468, 77.17826501429933)]],\n 'shot_noise_acc': [[(93.80362249761677, 98.37940896091516)],\n  [(91.40133460438513, 97.36892278360344)],\n  [(86.95900857959961, 94.62345090562441)],\n  [(76.12964728312679, 87.35938989513822)],\n  [(63.775023832221166, 78.39847473784556)]],\n 'speckle_noise_acc': [[(94.35653002859867, 98.53193517635843)],\n  [(93.38417540514776, 98.15061963775024)],\n  [(88.2745471877979, 95.5958055290753)],\n  [(83.4509056244042, 92.71687321258341)],\n  [(76.3584366062917, 87.47378455672069)]],\n 'clean_acc': [96.81601525262154, 99.33269780743565]}"
     },
     "execution_count": 14,
     "metadata": {},
     "output_type": "execute_result"
    }
   ],
   "source": [
    "res = {\n",
    "    'gaussian_noise_acc' : gaussian_noise_acc,\n",
    "    'impulse_noise_acc' : impulse_noise_acc,\n",
    "    'shot_noise_acc': shot_noise_acc,\n",
    "    'speckle_noise_acc': speckle_noise_acc,\n",
    "    'clean_acc': [clean_top1, clean_top5]\n",
    "}\n",
    "res"
   ],
   "metadata": {
    "collapsed": false,
    "ExecuteTime": {
     "end_time": "2023-07-30T04:59:39.091938200Z",
     "start_time": "2023-07-30T04:59:39.034094Z"
    }
   },
   "id": "4c1ca4de0c6c0737"
  },
  {
   "cell_type": "code",
   "execution_count": 14,
   "outputs": [],
   "source": [],
   "metadata": {
    "collapsed": false,
    "ExecuteTime": {
     "end_time": "2023-07-30T04:59:39.105901900Z",
     "start_time": "2023-07-30T04:59:39.050051800Z"
    }
   },
   "id": "2a12fef528ec3573"
  }
 ],
 "metadata": {
  "kernelspec": {
   "display_name": "Python 3",
   "language": "python",
   "name": "python3"
  },
  "language_info": {
   "codemirror_mode": {
    "name": "ipython",
    "version": 2
   },
   "file_extension": ".py",
   "mimetype": "text/x-python",
   "name": "python",
   "nbconvert_exporter": "python",
   "pygments_lexer": "ipython2",
   "version": "2.7.6"
  }
 },
 "nbformat": 4,
 "nbformat_minor": 5
}
