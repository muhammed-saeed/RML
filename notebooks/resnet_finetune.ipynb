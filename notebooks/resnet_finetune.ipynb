{
 "cells": [
  {
   "cell_type": "code",
   "execution_count": 1,
   "metadata": {},
   "outputs": [],
   "source": [
    "import sys \n",
    "sys.path.append('..')\n",
    "from src.resnet import get_image_features, define_model, feature_dim\n",
    "from src.build_classifier import get_classifier\n",
    "from src.train_clf import train"
   ]
  },
  {
   "cell_type": "code",
   "execution_count": 2,
   "metadata": {},
   "outputs": [],
   "source": [
    "import matplotlib.pyplot as plt\n",
    "import numpy as np\n",
    "import torchvision.transforms.functional as FT\n",
    "import torch"
   ]
  },
  {
   "cell_type": "code",
   "execution_count": 3,
   "metadata": {},
   "outputs": [],
   "source": [
    "sys.path.append('..')\n",
    "from cifar.cifarRawCorrupted import get_original_loaders, get_corrupt_loaders"
   ]
  },
  {
   "cell_type": "code",
   "execution_count": 4,
   "metadata": {},
   "outputs": [
    {
     "name": "stderr",
     "output_type": "stream",
     "text": [
      "/home/omoussa/miniconda3/envs/brn/lib/python3.9/site-packages/torchvision/models/_utils.py:208: UserWarning: The parameter 'pretrained' is deprecated since 0.13 and may be removed in the future, please use 'weights' instead.\n",
      "  warnings.warn(\n",
      "/home/omoussa/miniconda3/envs/brn/lib/python3.9/site-packages/torchvision/models/_utils.py:223: UserWarning: Arguments other than a weight enum or `None` for 'weights' are deprecated since 0.13 and may be removed in the future. The current behavior is equivalent to passing `weights=ResNet50_Weights.IMAGENET1K_V1`. You can also use `weights=ResNet50_Weights.DEFAULT` to get the most up-to-date weights.\n",
      "  warnings.warn(msg)\n"
     ]
    }
   ],
   "source": [
    "device = 'cuda:0'\n",
    "model = define_model(device=device)"
   ]
  },
  {
   "cell_type": "code",
   "execution_count": 5,
   "metadata": {},
   "outputs": [],
   "source": [
    "c_loader = get_corrupt_loaders(model_name='imagebind', severity=1)\n"
   ]
  },
  {
   "cell_type": "code",
   "execution_count": 6,
   "metadata": {},
   "outputs": [],
   "source": [
    "u,kt = next(iter(c_loader))"
   ]
  },
  {
   "cell_type": "code",
   "execution_count": 7,
   "metadata": {},
   "outputs": [
    {
     "data": {
      "text/plain": [
       "torch.Size([64, 2048])"
      ]
     },
     "execution_count": 7,
     "metadata": {},
     "output_type": "execute_result"
    }
   ],
   "source": [
    "get_image_features(model, u.to(device)).shape"
   ]
  },
  {
   "cell_type": "code",
   "execution_count": 8,
   "metadata": {},
   "outputs": [
    {
     "name": "stdout",
     "output_type": "stream",
     "text": [
      "Files already downloaded and verified\n",
      "Files already downloaded and verified\n"
     ]
    }
   ],
   "source": [
    "resnet_clf = get_classifier(feature_dim, output_classes=10, n_layers=1).to(device)\n",
    "train_loader, val_loader, test_loader = get_original_loaders(batch_size=1024, model_name='resnet') \n",
    "test_corrupt_loader = get_corrupt_loaders(batch_size=1024, model_name='resnet')"
   ]
  },
  {
   "cell_type": "code",
   "execution_count": 9,
   "metadata": {},
   "outputs": [],
   "source": [
    "loss_fn = torch.nn.CrossEntropyLoss()\n",
    "optim = torch.optim.Adam(resnet_clf.parameters(), lr=0.001)\n",
    "n_epochs = 15"
   ]
  },
  {
   "cell_type": "code",
   "execution_count": 10,
   "metadata": {},
   "outputs": [
    {
     "name": "stderr",
     "output_type": "stream",
     "text": [
      "/home/omoussa/miniconda3/envs/brn/lib/python3.9/site-packages/torch/nn/modules/container.py:204: UserWarning: Implicit dimension choice for softmax has been deprecated. Change the call to include dim=X as an argument.\n",
      "  input = module(input)\n"
     ]
    },
    {
     "name": "stdout",
     "output_type": "stream",
     "text": [
      "initial loss 2.3026732921600344 and initial accuracy 0.0623864009976387\n",
      " train loss: 1.742794719338417, val loss: 1.627689814567566, Train accuracy 0.760498046875, val accuracy 0.8436185121536255 \n",
      " train loss: 1.612250429391861, val loss: 1.618070137500763, Train accuracy 0.85986328125, val accuracy 0.8526087999343872 \n",
      " train loss: 1.6003514289855958, val loss: 1.6120728492736816, Train accuracy 0.8692626953125, val accuracy 0.8552913665771484 \n",
      " train loss: 1.5913942873477935, val loss: 1.5991934895515443, Train accuracy 0.876782238483429, val accuracy 0.8681361079216003 \n",
      " train loss: 1.5837869733572005, val loss: 1.5896828651428223, Train accuracy 0.884326159954071, val accuracy 0.8753547668457031 \n",
      " train loss: 1.5784279495477676, val loss: 1.5901500821113586, Train accuracy 0.8881591558456421, val accuracy 0.8752790689468384 \n",
      " train loss: 1.5752985626459122, val loss: 1.5899160265922547, Train accuracy 0.890795886516571, val accuracy 0.8753467798233032 \n",
      " train loss: 1.5693680733442306, val loss: 1.5872058272361755, Train accuracy 0.897387683391571, val accuracy 0.8780134320259094 \n",
      " train loss: 1.5712045937776566, val loss: 1.5884573221206666, Train accuracy 0.895312488079071, val accuracy 0.8761280179023743 \n",
      " train loss: 1.567835459113121, val loss: 1.599029040336609, Train accuracy 0.8981689214706421, val accuracy 0.8643794059753418 \n",
      " train loss: 1.565715765953064, val loss: 1.5839358568191528, Train accuracy 0.899731457233429, val accuracy 0.8803113102912903 \n",
      " train loss: 1.5618705958127976, val loss: 1.5826537251472472, Train accuracy 0.9033203125, val accuracy 0.8804308772087097 \n",
      " train loss: 1.5576293647289277, val loss: 1.5851343035697938, Train accuracy 0.9076172113418579, val accuracy 0.8782385587692261 \n",
      " train loss: 1.5565131306648254, val loss: 1.5896099209785461, Train accuracy 0.90869140625, val accuracy 0.8738440275192261 \n",
      " train loss: 1.5570231318473815, val loss: 1.5782730102539062, Train accuracy 0.908520519733429, val accuracy 0.8851701617240906 \n"
     ]
    }
   ],
   "source": [
    "losses, accs, val_losses, val_accs = train(model, resnet_clf, optim=optim, loss_fn=loss_fn,\n",
    "                                           train_loader=train_loader, val_loader=val_loader,\n",
    "                                           feature_fn=get_image_features, epochs=n_epochs, device=device) #TODO resize im in clip transforms"
   ]
  },
  {
   "cell_type": "code",
   "execution_count": 11,
   "metadata": {},
   "outputs": [],
   "source": [
    "torch.save(resnet_clf.state_dict(), '../saved_models/resnet_clf_50.pth')\n"
   ]
  },
  {
   "cell_type": "code",
   "execution_count": 12,
   "metadata": {},
   "outputs": [
    {
     "name": "stdout",
     "output_type": "stream",
     "text": [
      "0.8799585\n"
     ]
    }
   ],
   "source": [
    "def get_acc(gt, preds = None):\n",
    "    if preds is not None: \n",
    "        return ((preds.argmax(1)==gt).sum()/len(preds)).cpu().numpy()\n",
    "        \n",
    "    \n",
    "    return ((preds.argmax(1)==gt).sum()/len(preds)).cpu().numpy()\n",
    "    \n",
    "\n",
    "def get_test_acc(emb_model, model, test_loader, feature_fn, device='cuda'):\n",
    "    eval_acc = []\n",
    "    eval_losses = []\n",
    "    for eval_batch in test_loader:\n",
    "        if len(eval_batch)>2:\n",
    "            _, ims, labels = eval_batch\n",
    "        else: \n",
    "            ims, labels = eval_batch\n",
    "        ims, labels = ims.to(device), labels.to(device)\n",
    "        with torch.no_grad():\n",
    "            features = feature_fn(emb_model, ims).squeeze()\n",
    "            preds = model(features)\n",
    "            val_acc = get_acc(labels.view(-1,), preds)\n",
    "        \n",
    "        eval_acc.append(val_acc)\n",
    "    \n",
    "    return np.mean(eval_acc)\n",
    "            # \n",
    "test_acc_orig = racc =  get_test_acc(model, resnet_clf, test_loader, get_image_features, device=device,)\n",
    " \n",
    "print(test_acc_orig)"
   ]
  },
  {
   "cell_type": "code",
   "execution_count": 13,
   "metadata": {},
   "outputs": [],
   "source": [
    "corrupts_dict = {}\n",
    "corrupt_g_acc = []\n",
    "for cr in ['gaussian_noise', 'speckle_noise', 'impulse_noise', 'shot_noise', ]:\n",
    "    corrupts_dict[cr] = {}\n",
    "    for sev in [1, 2, 3, 4, 5]:\n",
    "        test_loader_corrupt = get_corrupt_loaders(batch_size=1024, corruption_type=cr, severity=sev, model_name='resnet')\n",
    "        acc =  get_test_acc(model, resnet_clf, test_loader_corrupt, get_image_features, device=device,)\n",
    "                                \n",
    "\n",
    "        corrupts_dict[cr][sev]=acc"
   ]
  },
  {
   "cell_type": "code",
   "execution_count": 14,
   "metadata": {},
   "outputs": [
    {
     "data": {
      "text/plain": [
       "{'gaussian_noise': {1: 0.72055566,\n",
       "  2: 0.57129705,\n",
       "  3: 0.41699418,\n",
       "  4: 0.35500437,\n",
       "  5: 0.30824298},\n",
       " 'speckle_noise': {1: 0.7930066,\n",
       "  2: 0.65925944,\n",
       "  3: 0.58779496,\n",
       "  4: 0.4652503,\n",
       "  5: 0.3694854},\n",
       " 'impulse_noise': {1: 0.64765424,\n",
       "  2: 0.45254502,\n",
       "  3: 0.36398277,\n",
       "  4: 0.2950833,\n",
       "  5: 0.26612923},\n",
       " 'shot_noise': {1: 0.79162747,\n",
       "  2: 0.69628704,\n",
       "  3: 0.50337017,\n",
       "  4: 0.43933955,\n",
       "  5: 0.3334443}}"
      ]
     },
     "execution_count": 14,
     "metadata": {},
     "output_type": "execute_result"
    }
   ],
   "source": [
    "corrupts_dict"
   ]
  },
  {
   "cell_type": "code",
   "execution_count": null,
   "metadata": {},
   "outputs": [],
   "source": []
  }
 ],
 "metadata": {
  "kernelspec": {
   "display_name": "Python 3.9.16 ('brn')",
   "language": "python",
   "name": "python3"
  },
  "language_info": {
   "codemirror_mode": {
    "name": "ipython",
    "version": 3
   },
   "file_extension": ".py",
   "mimetype": "text/x-python",
   "name": "python",
   "nbconvert_exporter": "python",
   "pygments_lexer": "ipython3",
   "version": "3.9.16"
  },
  "orig_nbformat": 4,
  "vscode": {
   "interpreter": {
    "hash": "c5b4607d21dcc400ead18a1c2ca0189f0fcf8d976d586df05f937ecd8ea5ac01"
   }
  }
 },
 "nbformat": 4,
 "nbformat_minor": 2
}
